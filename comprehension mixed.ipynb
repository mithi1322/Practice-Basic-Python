{
 "cells": [
  {
   "cell_type": "code",
   "execution_count": 5,
   "id": "2d5d9202-15d4-440b-8cb4-42363948a814",
   "metadata": {},
   "outputs": [
    {
     "data": {
      "text/plain": [
       "[1, 64, 1024, 2916, 4, 25, 36]"
      ]
     },
     "execution_count": 5,
     "metadata": {},
     "output_type": "execute_result"
    }
   ],
   "source": [
    "l=[1,8,32,54,2,5,6]\n",
    "l1=[]\n",
    "for i in l:\n",
    "    l1.append(i**2)\n",
    "l1"
   ]
  },
  {
   "cell_type": "code",
   "execution_count": 6,
   "id": "78468b5a-2360-4374-aebe-c27df33b31c9",
   "metadata": {},
   "outputs": [
    {
     "data": {
      "text/plain": [
       "[1, 64, 1024, 2916, 4, 25, 36]"
      ]
     },
     "execution_count": 6,
     "metadata": {},
     "output_type": "execute_result"
    }
   ],
   "source": [
    "l1"
   ]
  },
  {
   "cell_type": "code",
   "execution_count": 7,
   "id": "d903cbbd-f400-47e7-8451-5de418d6c741",
   "metadata": {},
   "outputs": [
    {
     "data": {
      "text/plain": [
       "[1, 8, 32, 54, 2, 5, 6]"
      ]
     },
     "execution_count": 7,
     "metadata": {},
     "output_type": "execute_result"
    }
   ],
   "source": [
    "l"
   ]
  },
  {
   "cell_type": "code",
   "execution_count": 8,
   "id": "c51b385e-a475-4554-aae0-57d96c4436c8",
   "metadata": {},
   "outputs": [
    {
     "data": {
      "text/plain": [
       "[1, 64, 1024, 2916, 4, 25, 36]"
      ]
     },
     "execution_count": 8,
     "metadata": {},
     "output_type": "execute_result"
    }
   ],
   "source": [
    "[i**2 for i in l]"
   ]
  },
  {
   "cell_type": "code",
   "execution_count": 9,
   "id": "cccd9608-70d9-44bb-9f82-7b613c7ad959",
   "metadata": {},
   "outputs": [
    {
     "data": {
      "text/plain": [
       "[8, 32, 54, 2, 6]"
      ]
     },
     "execution_count": 9,
     "metadata": {},
     "output_type": "execute_result"
    }
   ],
   "source": [
    "[i for i in l if i%2==0]"
   ]
  },
  {
   "cell_type": "code",
   "execution_count": 11,
   "id": "79fca83c-366d-4278-9960-a16cdb85927f",
   "metadata": {},
   "outputs": [
    {
     "data": {
      "text/plain": [
       "['MITHILESH', 'KUMAR', 'JAISWAL', 'DATA SCIENCE']"
      ]
     },
     "execution_count": 11,
     "metadata": {},
     "output_type": "execute_result"
    }
   ],
   "source": [
    "l2=[\"mithilesh\",\"kumar\",\"jaiswal\",\"data science\"]\n",
    "[i.upper() for i in l2]"
   ]
  },
  {
   "cell_type": "code",
   "execution_count": 12,
   "id": "6752e0a1-a4e3-4650-85c3-bbff33578112",
   "metadata": {},
   "outputs": [
    {
     "data": {
      "text/plain": [
       "[1, 8, 32, 54, 2, 5, 6]"
      ]
     },
     "execution_count": 12,
     "metadata": {},
     "output_type": "execute_result"
    }
   ],
   "source": [
    "l"
   ]
  },
  {
   "cell_type": "code",
   "execution_count": 13,
   "id": "e1d95ba2-3d9b-423f-9836-10e45c5a72d3",
   "metadata": {},
   "outputs": [
    {
     "data": {
      "text/plain": [
       "[1, 64, 1024, 2916, 4, 25, 36]"
      ]
     },
     "execution_count": 13,
     "metadata": {},
     "output_type": "execute_result"
    }
   ],
   "source": [
    "list(i**2 for i in l)"
   ]
  },
  {
   "cell_type": "code",
   "execution_count": 15,
   "id": "0b843c3b-3973-40d2-a920-c80e3d435413",
   "metadata": {},
   "outputs": [
    {
     "data": {
      "text/plain": [
       "dict_items([('key1', 1), ('key2', 8), ('key3', 32), ('key4', 54)])"
      ]
     },
     "execution_count": 15,
     "metadata": {},
     "output_type": "execute_result"
    }
   ],
   "source": [
    "d={\"key1\":1,\"key2\":8,\"key3\":32,\"key4\":54}\n",
    "{k:v**2 for k, v in d.items()}\n",
    "d.items()"
   ]
  },
  {
   "cell_type": "code",
   "execution_count": 16,
   "id": "c144fafe-6bf7-49e2-83f5-38e4548e74d3",
   "metadata": {},
   "outputs": [
    {
     "data": {
      "text/plain": [
       "{'key1': 1, 'key2': 8, 'key3': 32, 'key4': 54}"
      ]
     },
     "execution_count": 16,
     "metadata": {},
     "output_type": "execute_result"
    }
   ],
   "source": [
    "d"
   ]
  },
  {
   "cell_type": "code",
   "execution_count": null,
   "id": "1c7e4cf3-0a68-4c54-94d8-24e42f898ba6",
   "metadata": {},
   "outputs": [],
   "source": [
    "{for k, v in d.items() if v>1}"
   ]
  }
 ],
 "metadata": {
  "kernelspec": {
   "display_name": "Python 3 (ipykernel)",
   "language": "python",
   "name": "python3"
  },
  "language_info": {
   "codemirror_mode": {
    "name": "ipython",
    "version": 3
   },
   "file_extension": ".py",
   "mimetype": "text/x-python",
   "name": "python",
   "nbconvert_exporter": "python",
   "pygments_lexer": "ipython3",
   "version": "3.10.8"
  }
 },
 "nbformat": 4,
 "nbformat_minor": 5
}
