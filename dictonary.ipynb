{
 "cells": [
  {
   "cell_type": "code",
   "execution_count": 2,
   "id": "0c576c5b-e29b-494b-90ce-1503994f07e9",
   "metadata": {},
   "outputs": [],
   "source": [
    "d={}"
   ]
  },
  {
   "cell_type": "code",
   "execution_count": 3,
   "id": "1c9db354-9723-4c31-815e-8abf3c597c1c",
   "metadata": {},
   "outputs": [
    {
     "data": {
      "text/plain": [
       "dict"
      ]
     },
     "execution_count": 3,
     "metadata": {},
     "output_type": "execute_result"
    }
   ],
   "source": [
    "type(d)"
   ]
  },
  {
   "cell_type": "code",
   "execution_count": 4,
   "id": "0a75f71c-0a6c-4305-830e-a2b1a6c5763e",
   "metadata": {},
   "outputs": [
    {
     "data": {
      "text/plain": [
       "{}"
      ]
     },
     "execution_count": 4,
     "metadata": {},
     "output_type": "execute_result"
    }
   ],
   "source": [
    "d"
   ]
  },
  {
   "cell_type": "code",
   "execution_count": 6,
   "id": "f69adf43-3c55-497d-ba1f-2106569f2ae2",
   "metadata": {},
   "outputs": [],
   "source": [
    "d1={'key':'Mithi'}"
   ]
  },
  {
   "cell_type": "code",
   "execution_count": 7,
   "id": "93e05d37-ff0e-46aa-8c24-8b7e2d87058a",
   "metadata": {},
   "outputs": [
    {
     "data": {
      "text/plain": [
       "{'key': 'Mithi'}"
      ]
     },
     "execution_count": 7,
     "metadata": {},
     "output_type": "execute_result"
    }
   ],
   "source": [
    "d1"
   ]
  },
  {
   "cell_type": "code",
   "execution_count": 8,
   "id": "09995192-645d-4831-8335-0fc0e63e5148",
   "metadata": {},
   "outputs": [],
   "source": [
    "d2={'name':'Mithilesh','email':'mithileshji@gmail.com','number':9118061322}"
   ]
  },
  {
   "cell_type": "code",
   "execution_count": 9,
   "id": "0ca69e0c-7595-49bf-a047-66604eca92fe",
   "metadata": {},
   "outputs": [
    {
     "data": {
      "text/plain": [
       "{'name': 'Mithilesh', 'email': 'mithileshji@gmail.com', 'number': 9118061322}"
      ]
     },
     "execution_count": 9,
     "metadata": {},
     "output_type": "execute_result"
    }
   ],
   "source": [
    "d2"
   ]
  },
  {
   "cell_type": "code",
   "execution_count": 11,
   "id": "27b4f70d-e10d-437b-a4ad-6de34321336b",
   "metadata": {},
   "outputs": [],
   "source": [
    "d3={22:'mithi','@hello':'kumar',True:1212}"
   ]
  },
  {
   "cell_type": "code",
   "execution_count": 12,
   "id": "6f6a1b0a-79cf-4a4a-89cf-38c4e2764601",
   "metadata": {},
   "outputs": [
    {
     "data": {
      "text/plain": [
       "{22: 'mithi', '@hello': 'kumar', True: 1212}"
      ]
     },
     "execution_count": 12,
     "metadata": {},
     "output_type": "execute_result"
    }
   ],
   "source": [
    "d3"
   ]
  },
  {
   "cell_type": "code",
   "execution_count": 13,
   "id": "2d803a00-1500-475e-9b6a-d63efdd42f73",
   "metadata": {},
   "outputs": [
    {
     "data": {
      "text/plain": [
       "'mithi'"
      ]
     },
     "execution_count": 13,
     "metadata": {},
     "output_type": "execute_result"
    }
   ],
   "source": [
    "d3[22]"
   ]
  },
  {
   "cell_type": "code",
   "execution_count": 18,
   "id": "8a555dfe-ba01-48d1-ac62-bc33aa5222f3",
   "metadata": {},
   "outputs": [
    {
     "data": {
      "text/plain": [
       "'kumar'"
      ]
     },
     "execution_count": 18,
     "metadata": {},
     "output_type": "execute_result"
    }
   ],
   "source": [
    "d3['@hello']"
   ]
  },
  {
   "cell_type": "code",
   "execution_count": 19,
   "id": "1965a31a-df14-4136-a7a2-8c71552661a6",
   "metadata": {},
   "outputs": [
    {
     "data": {
      "text/plain": [
       "1212"
      ]
     },
     "execution_count": 19,
     "metadata": {},
     "output_type": "execute_result"
    }
   ],
   "source": [
    "d3[1]"
   ]
  },
  {
   "cell_type": "code",
   "execution_count": 21,
   "id": "1efd334d-c4cf-432e-96ca-a2ae83c6aa73",
   "metadata": {},
   "outputs": [],
   "source": [
    "d4={'name':'Mithilesh','email':'mithileshji@gmail.com','number':9118061322,\"name\":'Mithi'}"
   ]
  },
  {
   "cell_type": "code",
   "execution_count": 22,
   "id": "366b2dca-ba5a-4d1a-af11-79c5d4bd07e1",
   "metadata": {},
   "outputs": [
    {
     "data": {
      "text/plain": [
       "'Mithi'"
      ]
     },
     "execution_count": 22,
     "metadata": {},
     "output_type": "execute_result"
    }
   ],
   "source": [
    "d4['name']"
   ]
  },
  {
   "cell_type": "code",
   "execution_count": 23,
   "id": "f64251ba-495c-4c96-a4cf-5546357ed041",
   "metadata": {},
   "outputs": [],
   "source": [
    "d5={'company':\"pwskills\",'course':['web dev','data science','java with dsa']}"
   ]
  },
  {
   "cell_type": "code",
   "execution_count": 24,
   "id": "64b46b9a-a23b-4b69-8bd3-72736988e310",
   "metadata": {},
   "outputs": [
    {
     "data": {
      "text/plain": [
       "{'company': 'pwskills', 'course': ['web dev', 'data science', 'java with dsa']}"
      ]
     },
     "execution_count": 24,
     "metadata": {},
     "output_type": "execute_result"
    }
   ],
   "source": [
    "d5"
   ]
  },
  {
   "cell_type": "code",
   "execution_count": 25,
   "id": "95cfcd3f-e032-480f-9558-83daf603c41a",
   "metadata": {},
   "outputs": [
    {
     "data": {
      "text/plain": [
       "['web dev', 'data science', 'java with dsa']"
      ]
     },
     "execution_count": 25,
     "metadata": {},
     "output_type": "execute_result"
    }
   ],
   "source": [
    "d5['course']"
   ]
  },
  {
   "cell_type": "code",
   "execution_count": 26,
   "id": "5c83170d-0a84-4725-add6-62047f23d312",
   "metadata": {},
   "outputs": [
    {
     "data": {
      "text/plain": [
       "'java with dsa'"
      ]
     },
     "execution_count": 26,
     "metadata": {},
     "output_type": "execute_result"
    }
   ],
   "source": [
    "d5['course'][2]"
   ]
  },
  {
   "cell_type": "code",
   "execution_count": 27,
   "id": "5c636eda-9e9f-4347-b0b1-b6e26aa79908",
   "metadata": {},
   "outputs": [],
   "source": [
    "d2={'name':'Mithilesh','email':'mithileshji@gmail.com','number':9118061322 }"
   ]
  },
  {
   "cell_type": "code",
   "execution_count": 28,
   "id": "c10a79d9-eb13-4148-876f-634e0a7038e7",
   "metadata": {},
   "outputs": [
    {
     "data": {
      "text/plain": [
       "{'company': 'pwskills', 'course': ['web dev', 'data science', 'java with dsa']}"
      ]
     },
     "execution_count": 28,
     "metadata": {},
     "output_type": "execute_result"
    }
   ],
   "source": [
    "d5"
   ]
  },
  {
   "cell_type": "code",
   "execution_count": 29,
   "id": "7d4d6801-5fb2-4813-88e3-fa91549e7fc2",
   "metadata": {},
   "outputs": [],
   "source": [
    "d5['mentor']=['sudhanshu','krish nyak']"
   ]
  },
  {
   "cell_type": "code",
   "execution_count": 30,
   "id": "c05b7ef2-0098-4307-89f8-d0d1e77b4c2c",
   "metadata": {},
   "outputs": [
    {
     "data": {
      "text/plain": [
       "{'company': 'pwskills',\n",
       " 'course': ['web dev', 'data science', 'java with dsa'],\n",
       " 'mentor': ['sudhanshu', 'krish nyak']}"
      ]
     },
     "execution_count": 30,
     "metadata": {},
     "output_type": "execute_result"
    }
   ],
   "source": [
    "d5"
   ]
  },
  {
   "cell_type": "code",
   "execution_count": 31,
   "id": "1f9ec803-fe28-48bf-b566-8578d01c45c7",
   "metadata": {},
   "outputs": [],
   "source": [
    "del d5['company']"
   ]
  },
  {
   "cell_type": "code",
   "execution_count": 32,
   "id": "589f30b9-c1f0-4f71-a7d1-b2332ade9772",
   "metadata": {},
   "outputs": [
    {
     "data": {
      "text/plain": [
       "{'course': ['web dev', 'data science', 'java with dsa'],\n",
       " 'mentor': ['sudhanshu', 'krish nyak']}"
      ]
     },
     "execution_count": 32,
     "metadata": {},
     "output_type": "execute_result"
    }
   ],
   "source": [
    "d5"
   ]
  },
  {
   "cell_type": "code",
   "execution_count": 34,
   "id": "4f97d291-257c-4941-8dfd-af16fedaeeef",
   "metadata": {},
   "outputs": [
    {
     "data": {
      "text/plain": [
       "[['web dev', 'data science', 'java with dsa'], ['sudhanshu', 'krish nyak']]"
      ]
     },
     "execution_count": 34,
     "metadata": {},
     "output_type": "execute_result"
    }
   ],
   "source": [
    "list(d5.values())"
   ]
  },
  {
   "cell_type": "code",
   "execution_count": 35,
   "id": "05825c79-203c-46a1-b8ab-c0a75e105772",
   "metadata": {},
   "outputs": [
    {
     "data": {
      "text/plain": [
       "['course', 'mentor']"
      ]
     },
     "execution_count": 35,
     "metadata": {},
     "output_type": "execute_result"
    }
   ],
   "source": [
    "list(d5.keys())"
   ]
  },
  {
   "cell_type": "code",
   "execution_count": 36,
   "id": "3850299e-9ee0-49d6-b1e0-1ccdfa23cdfd",
   "metadata": {},
   "outputs": [
    {
     "data": {
      "text/plain": [
       "[('course', ['web dev', 'data science', 'java with dsa']),\n",
       " ('mentor', ['sudhanshu', 'krish nyak'])]"
      ]
     },
     "execution_count": 36,
     "metadata": {},
     "output_type": "execute_result"
    }
   ],
   "source": [
    "list(d5.items())"
   ]
  },
  {
   "cell_type": "code",
   "execution_count": 38,
   "id": "93a93238-b489-46f1-bb4c-e23af9fd6dad",
   "metadata": {},
   "outputs": [
    {
     "data": {
      "text/plain": [
       "dict_items([('course', ['web dev', 'data science', 'java with dsa']), ('mentor', ['sudhanshu', 'krish nyak'])])"
      ]
     },
     "execution_count": 38,
     "metadata": {},
     "output_type": "execute_result"
    }
   ],
   "source": [
    "d5.items()"
   ]
  },
  {
   "cell_type": "code",
   "execution_count": 39,
   "id": "6dcfee9e-8db4-4fca-a070-f43cfe0e4dea",
   "metadata": {},
   "outputs": [
    {
     "data": {
      "text/plain": [
       "['web dev', 'data science', 'java with dsa']"
      ]
     },
     "execution_count": 39,
     "metadata": {},
     "output_type": "execute_result"
    }
   ],
   "source": [
    "d5.pop('course')"
   ]
  },
  {
   "cell_type": "code",
   "execution_count": 40,
   "id": "10283c51-e3ea-46c0-aed0-20827b9a3e20",
   "metadata": {},
   "outputs": [
    {
     "data": {
      "text/plain": [
       "{'mentor': ['sudhanshu', 'krish nyak']}"
      ]
     },
     "execution_count": 40,
     "metadata": {},
     "output_type": "execute_result"
    }
   ],
   "source": [
    "d5"
   ]
  },
  {
   "cell_type": "code",
   "execution_count": null,
   "id": "228ff531-811b-49b1-b2ed-f80d88b131c8",
   "metadata": {},
   "outputs": [],
   "source": []
  }
 ],
 "metadata": {
  "kernelspec": {
   "display_name": "Python 3 (ipykernel)",
   "language": "python",
   "name": "python3"
  },
  "language_info": {
   "codemirror_mode": {
    "name": "ipython",
    "version": 3
   },
   "file_extension": ".py",
   "mimetype": "text/x-python",
   "name": "python",
   "nbconvert_exporter": "python",
   "pygments_lexer": "ipython3",
   "version": "3.10.8"
  }
 },
 "nbformat": 4,
 "nbformat_minor": 5
}
