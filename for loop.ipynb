{
 "cells": [
  {
   "cell_type": "code",
   "execution_count": 1,
   "id": "aa7e3682-1a79-4d2c-9ce3-b98a562eabbe",
   "metadata": {},
   "outputs": [],
   "source": [
    "l=[1,2,3,4,5,6]"
   ]
  },
  {
   "cell_type": "code",
   "execution_count": 4,
   "id": "9e84ff29-4a5b-4393-8076-eb63bc07e152",
   "metadata": {},
   "outputs": [
    {
     "name": "stdout",
     "output_type": "stream",
     "text": [
      "1 <class 'int'>\n",
      "2 <class 'int'>\n",
      "3 <class 'int'>\n",
      "4 <class 'int'>\n",
      "5 <class 'int'>\n",
      "6 <class 'int'>\n"
     ]
    }
   ],
   "source": [
    "for i in l:\n",
    "    print(i, type(i))"
   ]
  },
  {
   "cell_type": "code",
   "execution_count": 5,
   "id": "2e47fff6-cd5c-44e0-8039-3cff3f0dd518",
   "metadata": {},
   "outputs": [],
   "source": [
    "l1=['mithi','kumar','jaiswal']"
   ]
  },
  {
   "cell_type": "code",
   "execution_count": 6,
   "id": "13da3a74-995d-4b35-9f93-49e79e6f62f0",
   "metadata": {},
   "outputs": [
    {
     "name": "stdout",
     "output_type": "stream",
     "text": [
      "mithi\n",
      "kumar\n",
      "jaiswal\n",
      "if for loop is able to complete itself then only else will excute\n"
     ]
    }
   ],
   "source": [
    "for i in l1:\n",
    "    print(i)\n",
    "else:\n",
    "    print(\"if for loop is able to complete itself then only else will excute\")"
   ]
  },
  {
   "cell_type": "code",
   "execution_count": 7,
   "id": "f47e7821-49b2-47cf-a7f4-49d243a2e59a",
   "metadata": {},
   "outputs": [
    {
     "data": {
      "text/plain": [
       "['mithi', 'kumar', 'jaiswal']"
      ]
     },
     "execution_count": 7,
     "metadata": {},
     "output_type": "execute_result"
    }
   ],
   "source": [
    "l1"
   ]
  },
  {
   "cell_type": "code",
   "execution_count": 8,
   "id": "0063a796-4c0a-479e-8b32-58bfa5eca0fe",
   "metadata": {},
   "outputs": [
    {
     "name": "stdout",
     "output_type": "stream",
     "text": [
      "mithi\n"
     ]
    }
   ],
   "source": [
    "for i in l1:\n",
    "    if i==\"kumar\":\n",
    "        break\n",
    "    print(i)"
   ]
  },
  {
   "cell_type": "code",
   "execution_count": 9,
   "id": "cb60191b-9b17-4b90-98ee-a1557379a98a",
   "metadata": {},
   "outputs": [
    {
     "name": "stdout",
     "output_type": "stream",
     "text": [
      "mithi\n"
     ]
    }
   ],
   "source": [
    "for i in l1:\n",
    "    if i==\"kumar\":\n",
    "        break\n",
    "    print(i)\n",
    "else:\n",
    "    print(\"excute this if for loop is able to complete itself\")"
   ]
  },
  {
   "cell_type": "code",
   "execution_count": 10,
   "id": "b55483aa-6ce3-43b6-bb44-4218d06e5c50",
   "metadata": {},
   "outputs": [
    {
     "data": {
      "text/plain": [
       "['mithi', 'kumar', 'jaiswal']"
      ]
     },
     "execution_count": 10,
     "metadata": {},
     "output_type": "execute_result"
    }
   ],
   "source": [
    "l1"
   ]
  },
  {
   "cell_type": "code",
   "execution_count": 11,
   "id": "21d85006-27af-470b-bb9e-50a11cab6d04",
   "metadata": {},
   "outputs": [
    {
     "name": "stdout",
     "output_type": "stream",
     "text": [
      "mithi\n",
      "jaiswal\n"
     ]
    }
   ],
   "source": [
    "for i in l1:\n",
    "    if i==\"kumar\":\n",
    "        continue\n",
    "    print(i)"
   ]
  },
  {
   "cell_type": "code",
   "execution_count": 12,
   "id": "454bc129-2e8f-4b23-80de-cc0936b5c2d2",
   "metadata": {},
   "outputs": [
    {
     "name": "stdout",
     "output_type": "stream",
     "text": [
      "mithi\n",
      "jaiswal\n",
      "excute this if for loop is able to complete itself\n"
     ]
    }
   ],
   "source": [
    "for i in l1:\n",
    "    if i==\"kumar\":\n",
    "        continue\n",
    "    print(i)\n",
    "else:\n",
    "    print(\"excute this if for loop is able to complete itself\")"
   ]
  },
  {
   "cell_type": "code",
   "execution_count": 14,
   "id": "087a25fb-3b7c-4a45-8513-76b65b684112",
   "metadata": {},
   "outputs": [
    {
     "data": {
      "text/plain": [
       "range(0, 4)"
      ]
     },
     "execution_count": 14,
     "metadata": {},
     "output_type": "execute_result"
    }
   ],
   "source": [
    "range(0,4)"
   ]
  },
  {
   "cell_type": "code",
   "execution_count": 15,
   "id": "aa02b7e6-554a-4046-b2ec-9d1ee46980e1",
   "metadata": {},
   "outputs": [
    {
     "data": {
      "text/plain": [
       "[0, 1, 2, 3]"
      ]
     },
     "execution_count": 15,
     "metadata": {},
     "output_type": "execute_result"
    }
   ],
   "source": [
    "list(range(4))"
   ]
  },
  {
   "cell_type": "code",
   "execution_count": 16,
   "id": "ce7c7077-25e6-433f-bb5a-0dbe2208b2d7",
   "metadata": {},
   "outputs": [
    {
     "data": {
      "text/plain": [
       "[0, 1, 2, 3]"
      ]
     },
     "execution_count": 16,
     "metadata": {},
     "output_type": "execute_result"
    }
   ],
   "source": [
    "list (range(0,4,1))"
   ]
  },
  {
   "cell_type": "code",
   "execution_count": 17,
   "id": "a4e6c8db-1788-42f3-92c1-d26e220b5e3d",
   "metadata": {},
   "outputs": [
    {
     "data": {
      "text/plain": [
       "[0, 4, 8, 12, 16, 20, 24, 28, 32, 36]"
      ]
     },
     "execution_count": 17,
     "metadata": {},
     "output_type": "execute_result"
    }
   ],
   "source": [
    "list(range(0,40,4))"
   ]
  },
  {
   "cell_type": "code",
   "execution_count": 18,
   "id": "479bdbda-317d-46fd-b54a-01803a035f4d",
   "metadata": {},
   "outputs": [
    {
     "data": {
      "text/plain": [
       "[-8, -7, -6, -5, -4, -3, -2, -1]"
      ]
     },
     "execution_count": 18,
     "metadata": {},
     "output_type": "execute_result"
    }
   ],
   "source": [
    "list(range(-8,0))"
   ]
  },
  {
   "cell_type": "code",
   "execution_count": 19,
   "id": "3113933e-55ec-4d51-8418-774634fcfdb6",
   "metadata": {},
   "outputs": [
    {
     "data": {
      "text/plain": [
       "['mithi', 'kumar', 'jaiswal']"
      ]
     },
     "execution_count": 19,
     "metadata": {},
     "output_type": "execute_result"
    }
   ],
   "source": [
    "l1"
   ]
  },
  {
   "cell_type": "code",
   "execution_count": 20,
   "id": "587f94f3-8357-4fc4-b0d2-f43cb1ed62f4",
   "metadata": {},
   "outputs": [
    {
     "data": {
      "text/plain": [
       "3"
      ]
     },
     "execution_count": 20,
     "metadata": {},
     "output_type": "execute_result"
    }
   ],
   "source": [
    "len(l1)"
   ]
  },
  {
   "cell_type": "code",
   "execution_count": 22,
   "id": "87bfb833-d5ea-4453-86f8-4441ac16aae1",
   "metadata": {},
   "outputs": [
    {
     "data": {
      "text/plain": [
       "[0, 1, 2]"
      ]
     },
     "execution_count": 22,
     "metadata": {},
     "output_type": "execute_result"
    }
   ],
   "source": [
    "list(range(len(l1)))"
   ]
  },
  {
   "cell_type": "code",
   "execution_count": 25,
   "id": "c2483317-655e-4454-ae78-afdfe57a76eb",
   "metadata": {},
   "outputs": [
    {
     "name": "stdout",
     "output_type": "stream",
     "text": [
      "mithi\n",
      "kumar\n",
      "jaiswal\n"
     ]
    }
   ],
   "source": [
    "for i in range(len(l1)):\n",
    "    print(l1[i])"
   ]
  },
  {
   "cell_type": "code",
   "execution_count": 26,
   "id": "3c79db84-f0dd-408d-98d7-13e1ce3ee4df",
   "metadata": {},
   "outputs": [
    {
     "data": {
      "text/plain": [
       "[3, 2, 1]"
      ]
     },
     "execution_count": 26,
     "metadata": {},
     "output_type": "execute_result"
    }
   ],
   "source": [
    "list(range(len(l1),0,-1))"
   ]
  },
  {
   "cell_type": "code",
   "execution_count": 28,
   "id": "b6689a41-5fbf-4f31-98a0-7a96f4f9a2f4",
   "metadata": {},
   "outputs": [
    {
     "data": {
      "text/plain": [
       "[2, 1, 0]"
      ]
     },
     "execution_count": 28,
     "metadata": {},
     "output_type": "execute_result"
    }
   ],
   "source": [
    "list(range(len(l1)-1,-1,-1))"
   ]
  },
  {
   "cell_type": "code",
   "execution_count": 29,
   "id": "d7eea746-1231-4d55-a51a-59bae0b60a8f",
   "metadata": {},
   "outputs": [
    {
     "name": "stdout",
     "output_type": "stream",
     "text": [
      "jaiswal\n",
      "kumar\n",
      "mithi\n"
     ]
    }
   ],
   "source": [
    "for i in range(len(l1)-1,-1,-1):\n",
    "    print(l1[i])"
   ]
  },
  {
   "cell_type": "code",
   "execution_count": 32,
   "id": "65996ae0-b0e5-40f1-a1c4-b983de348cfa",
   "metadata": {},
   "outputs": [],
   "source": [
    "l2=[12,3,4,5,53,33,1,5,67,31]"
   ]
  },
  {
   "cell_type": "code",
   "execution_count": 33,
   "id": "1b98dbd0-835a-45e7-88a8-22b4e5b296f2",
   "metadata": {},
   "outputs": [
    {
     "data": {
      "text/plain": [
       "[0, 2, 4, 6, 8]"
      ]
     },
     "execution_count": 33,
     "metadata": {},
     "output_type": "execute_result"
    }
   ],
   "source": [
    "list(range(0,len(l2),2))"
   ]
  },
  {
   "cell_type": "code",
   "execution_count": 35,
   "id": "e279857b-7389-4e94-b691-0e2ec1f0dc04",
   "metadata": {},
   "outputs": [
    {
     "name": "stdout",
     "output_type": "stream",
     "text": [
      "12\n",
      "4\n",
      "53\n",
      "1\n",
      "67\n"
     ]
    }
   ],
   "source": [
    "for i in range(0,len(l2),2):\n",
    "    print(l2[i])"
   ]
  },
  {
   "cell_type": "code",
   "execution_count": 36,
   "id": "2c8cd821-23be-4142-8ac1-03fede8e6cc3",
   "metadata": {},
   "outputs": [
    {
     "data": {
      "text/plain": [
       "53"
      ]
     },
     "execution_count": 36,
     "metadata": {},
     "output_type": "execute_result"
    }
   ],
   "source": [
    "l2[4]"
   ]
  },
  {
   "cell_type": "code",
   "execution_count": 37,
   "id": "c63f30d4-980a-47b6-8817-ade6b1a4adbd",
   "metadata": {},
   "outputs": [
    {
     "data": {
      "text/plain": [
       "[12, 3, 4, 5, 53, 33, 1, 5, 67, 31]"
      ]
     },
     "execution_count": 37,
     "metadata": {},
     "output_type": "execute_result"
    }
   ],
   "source": [
    "l2"
   ]
  },
  {
   "cell_type": "code",
   "execution_count": 38,
   "id": "4985f005-bbad-465a-b3bf-c01887de42fd",
   "metadata": {},
   "outputs": [
    {
     "data": {
      "text/plain": [
       "214"
      ]
     },
     "execution_count": 38,
     "metadata": {},
     "output_type": "execute_result"
    }
   ],
   "source": [
    "sum(l2)"
   ]
  },
  {
   "cell_type": "code",
   "execution_count": 39,
   "id": "b7011b5d-02b0-4135-9aec-18ebfa0a17db",
   "metadata": {},
   "outputs": [
    {
     "data": {
      "text/plain": [
       "214"
      ]
     },
     "execution_count": 39,
     "metadata": {},
     "output_type": "execute_result"
    }
   ],
   "source": [
    "result=0\n",
    "for i in l2:\n",
    "    result=result+i\n",
    "result"
   ]
  },
  {
   "cell_type": "code",
   "execution_count": 40,
   "id": "4ec94e3a-b4df-4619-8834-b55cd3927188",
   "metadata": {},
   "outputs": [],
   "source": [
    "s={1,2,3,\"mithi\",\"kumar\",'pwakils'}"
   ]
  },
  {
   "cell_type": "code",
   "execution_count": 41,
   "id": "4e07de8f-a745-4c1f-a71c-4d7e176a5010",
   "metadata": {},
   "outputs": [
    {
     "name": "stdout",
     "output_type": "stream",
     "text": [
      "1\n",
      "2\n",
      "3\n",
      "mithi\n",
      "kumar\n",
      "pwakils\n"
     ]
    }
   ],
   "source": [
    "for i in s:\n",
    "    print(i)"
   ]
  },
  {
   "cell_type": "code",
   "execution_count": 42,
   "id": "ed125f74-3a80-4359-bc6e-ff47183ba0f1",
   "metadata": {},
   "outputs": [],
   "source": [
    "s1=\"jaiswalji\""
   ]
  },
  {
   "cell_type": "code",
   "execution_count": 43,
   "id": "25d484f3-106b-47c3-8276-e6fdd27ff1f3",
   "metadata": {},
   "outputs": [
    {
     "name": "stdout",
     "output_type": "stream",
     "text": [
      "j\n",
      "a\n",
      "i\n",
      "s\n",
      "w\n",
      "a\n",
      "l\n",
      "j\n",
      "i\n"
     ]
    }
   ],
   "source": [
    "for i in s1:\n",
    "    print(i)"
   ]
  },
  {
   "cell_type": "code",
   "execution_count": 44,
   "id": "ddbd8a2f-e0fb-405c-9ba2-773e059d23f2",
   "metadata": {},
   "outputs": [],
   "source": [
    "d={\"name\":\"Mithilesh\",'key':\"hello\",'class':[\"python\",\"project\",\"resume\",\"nlp\"]}"
   ]
  },
  {
   "cell_type": "code",
   "execution_count": 45,
   "id": "c667f239-85b5-42e1-8d8d-b06375a90e6b",
   "metadata": {},
   "outputs": [
    {
     "data": {
      "text/plain": [
       "{'name': 'Mithilesh',\n",
       " 'key': 'hello',\n",
       " 'class': ['python', 'project', 'resume', 'nlp']}"
      ]
     },
     "execution_count": 45,
     "metadata": {},
     "output_type": "execute_result"
    }
   ],
   "source": [
    "d"
   ]
  },
  {
   "cell_type": "code",
   "execution_count": 46,
   "id": "7bdb70ae-4c4f-43b1-955c-acbd24f0213b",
   "metadata": {},
   "outputs": [
    {
     "data": {
      "text/plain": [
       "dict_keys(['name', 'key', 'class'])"
      ]
     },
     "execution_count": 46,
     "metadata": {},
     "output_type": "execute_result"
    }
   ],
   "source": [
    "d.keys()"
   ]
  },
  {
   "cell_type": "code",
   "execution_count": 49,
   "id": "9416a1dd-4ff5-49a4-b815-8f29ae353d1c",
   "metadata": {},
   "outputs": [
    {
     "name": "stdout",
     "output_type": "stream",
     "text": [
      "Mithilesh\n",
      "hello\n",
      "['python', 'project', 'resume', 'nlp']\n"
     ]
    }
   ],
   "source": [
    "for i in d.keys():\n",
    "    print(d[i])"
   ]
  },
  {
   "cell_type": "code",
   "execution_count": 50,
   "id": "2f16c8ab-9eec-464e-92c9-4799cc327d38",
   "metadata": {},
   "outputs": [
    {
     "data": {
      "text/plain": [
       "dict_values(['Mithilesh', 'hello', ['python', 'project', 'resume', 'nlp']])"
      ]
     },
     "execution_count": 50,
     "metadata": {},
     "output_type": "execute_result"
    }
   ],
   "source": [
    "d.values()"
   ]
  },
  {
   "cell_type": "code",
   "execution_count": 51,
   "id": "229c6df2-91bb-4e11-b01c-916d8a889618",
   "metadata": {},
   "outputs": [
    {
     "name": "stdout",
     "output_type": "stream",
     "text": [
      "Mithilesh\n",
      "hello\n",
      "['python', 'project', 'resume', 'nlp']\n"
     ]
    }
   ],
   "source": [
    "for i in d.values():\n",
    "    print(i)"
   ]
  },
  {
   "cell_type": "code",
   "execution_count": 52,
   "id": "d7cb84e8-5e3c-4f94-9745-9874142158a9",
   "metadata": {},
   "outputs": [
    {
     "data": {
      "text/plain": [
       "dict_items([('name', 'Mithilesh'), ('key', 'hello'), ('class', ['python', 'project', 'resume', 'nlp'])])"
      ]
     },
     "execution_count": 52,
     "metadata": {},
     "output_type": "execute_result"
    }
   ],
   "source": [
    "d.items()"
   ]
  },
  {
   "cell_type": "code",
   "execution_count": 53,
   "id": "2a3c9530-e2e3-46dd-958f-1afadf60e0b6",
   "metadata": {},
   "outputs": [
    {
     "name": "stdout",
     "output_type": "stream",
     "text": [
      "('name', 'Mithilesh')\n",
      "('key', 'hello')\n",
      "('class', ['python', 'project', 'resume', 'nlp'])\n"
     ]
    }
   ],
   "source": [
    "for i in d.items():\n",
    "    print(i)"
   ]
  },
  {
   "cell_type": "code",
   "execution_count": null,
   "id": "ac844e46-8641-4291-a1b0-79791c783a1c",
   "metadata": {},
   "outputs": [],
   "source": []
  }
 ],
 "metadata": {
  "kernelspec": {
   "display_name": "Python 3 (ipykernel)",
   "language": "python",
   "name": "python3"
  },
  "language_info": {
   "codemirror_mode": {
    "name": "ipython",
    "version": 3
   },
   "file_extension": ".py",
   "mimetype": "text/x-python",
   "name": "python",
   "nbconvert_exporter": "python",
   "pygments_lexer": "ipython3",
   "version": "3.10.8"
  }
 },
 "nbformat": 4,
 "nbformat_minor": 5
}
