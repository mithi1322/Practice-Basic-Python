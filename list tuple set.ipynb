{
 "cells": [
  {
   "cell_type": "code",
   "execution_count": 1,
   "id": "dcaff2c3-d2b2-4003-8b2c-dddce314f87a",
   "metadata": {},
   "outputs": [],
   "source": [
    "l=[23,44,34.5554,'mithilesh',False, True,34+3j ]"
   ]
  },
  {
   "cell_type": "code",
   "execution_count": 2,
   "id": "5e6bc6ef-ae2e-4691-8fcf-2f6e41d066cb",
   "metadata": {},
   "outputs": [
    {
     "data": {
      "text/plain": [
       "[23, 44, 34.5554, 'mithilesh', False, True, (34+3j)]"
      ]
     },
     "execution_count": 2,
     "metadata": {},
     "output_type": "execute_result"
    }
   ],
   "source": [
    "l"
   ]
  },
  {
   "cell_type": "code",
   "execution_count": 3,
   "id": "cec79c20-45d0-4a45-a9d2-cecb3aa8c20c",
   "metadata": {},
   "outputs": [
    {
     "data": {
      "text/plain": [
       "list"
      ]
     },
     "execution_count": 3,
     "metadata": {},
     "output_type": "execute_result"
    }
   ],
   "source": [
    "type(l)"
   ]
  },
  {
   "cell_type": "code",
   "execution_count": 4,
   "id": "68b40c0c-20c0-4642-b947-810a47ae88c5",
   "metadata": {},
   "outputs": [
    {
     "data": {
      "text/plain": [
       "34.5554"
      ]
     },
     "execution_count": 4,
     "metadata": {},
     "output_type": "execute_result"
    }
   ],
   "source": [
    "l[2]"
   ]
  },
  {
   "cell_type": "code",
   "execution_count": 5,
   "id": "c5e9edb6-d167-46e7-a306-96f22b178b7e",
   "metadata": {},
   "outputs": [
    {
     "data": {
      "text/plain": [
       "str"
      ]
     },
     "execution_count": 5,
     "metadata": {},
     "output_type": "execute_result"
    }
   ],
   "source": [
    "type(l[3])"
   ]
  },
  {
   "cell_type": "code",
   "execution_count": 6,
   "id": "50970c40-96b3-418b-b2f1-d5dc8e654960",
   "metadata": {},
   "outputs": [
    {
     "data": {
      "text/plain": [
       "bool"
      ]
     },
     "execution_count": 6,
     "metadata": {},
     "output_type": "execute_result"
    }
   ],
   "source": [
    "type(l[4])"
   ]
  },
  {
   "cell_type": "code",
   "execution_count": 8,
   "id": "dceebb6c-b9d3-4a00-9329-3aefcc1f764a",
   "metadata": {},
   "outputs": [
    {
     "data": {
      "text/plain": [
       "True"
      ]
     },
     "execution_count": 8,
     "metadata": {},
     "output_type": "execute_result"
    }
   ],
   "source": [
    "l[-2]"
   ]
  },
  {
   "cell_type": "code",
   "execution_count": 9,
   "id": "74845fbf-8b58-457c-9840-4482ea76affc",
   "metadata": {},
   "outputs": [
    {
     "data": {
      "text/plain": [
       "[34.5554, 'mithilesh']"
      ]
     },
     "execution_count": 9,
     "metadata": {},
     "output_type": "execute_result"
    }
   ],
   "source": [
    "l[2:4]"
   ]
  },
  {
   "cell_type": "code",
   "execution_count": 10,
   "id": "0a5c74bc-b8ae-45de-920d-a890b4e9f41f",
   "metadata": {},
   "outputs": [
    {
     "data": {
      "text/plain": [
       "[23, 44, 34.5554, 'mithilesh']"
      ]
     },
     "execution_count": 10,
     "metadata": {},
     "output_type": "execute_result"
    }
   ],
   "source": [
    "l[0:4]"
   ]
  },
  {
   "cell_type": "code",
   "execution_count": 11,
   "id": "c28a5746-c8b1-4d2e-a218-f7c79b0557be",
   "metadata": {},
   "outputs": [
    {
     "data": {
      "text/plain": [
       "[(34+3j), True, False, 'mithilesh', 34.5554, 44, 23]"
      ]
     },
     "execution_count": 11,
     "metadata": {},
     "output_type": "execute_result"
    }
   ],
   "source": [
    "l[::-1]"
   ]
  },
  {
   "cell_type": "code",
   "execution_count": 13,
   "id": "17faeb79-d60e-41bd-a496-4c0c3266f420",
   "metadata": {},
   "outputs": [
    {
     "data": {
      "text/plain": [
       "[23, 34.5554, False, (34+3j)]"
      ]
     },
     "execution_count": 13,
     "metadata": {},
     "output_type": "execute_result"
    }
   ],
   "source": [
    "l[::2]"
   ]
  },
  {
   "cell_type": "code",
   "execution_count": 14,
   "id": "500867d8-5487-4245-873e-87a9aebfb746",
   "metadata": {},
   "outputs": [
    {
     "data": {
      "text/plain": [
       "[23, 44, 34.5554, 'mithilesh', False, True, (34+3j)]"
      ]
     },
     "execution_count": 14,
     "metadata": {},
     "output_type": "execute_result"
    }
   ],
   "source": [
    "l"
   ]
  },
  {
   "cell_type": "code",
   "execution_count": 15,
   "id": "13ad0613-ae78-472c-a8e4-9b651d594d17",
   "metadata": {},
   "outputs": [],
   "source": [
    "s='jaiswalji'"
   ]
  },
  {
   "cell_type": "code",
   "execution_count": 16,
   "id": "87ab6006-c658-4c8a-909f-0ba0498251f2",
   "metadata": {},
   "outputs": [
    {
     "ename": "TypeError",
     "evalue": "can only concatenate list (not \"str\") to list",
     "output_type": "error",
     "traceback": [
      "\u001b[0;31m---------------------------------------------------------------------------\u001b[0m",
      "\u001b[0;31mTypeError\u001b[0m                                 Traceback (most recent call last)",
      "Cell \u001b[0;32mIn[16], line 1\u001b[0m\n\u001b[0;32m----> 1\u001b[0m \u001b[43ml\u001b[49m\u001b[38;5;241;43m+\u001b[39;49m\u001b[43ms\u001b[49m\n",
      "\u001b[0;31mTypeError\u001b[0m: can only concatenate list (not \"str\") to list"
     ]
    }
   ],
   "source": [
    "l+s"
   ]
  },
  {
   "cell_type": "code",
   "execution_count": 19,
   "id": "8150d15e-e96d-4198-9736-8479d13ae703",
   "metadata": {},
   "outputs": [
    {
     "data": {
      "text/plain": [
       "['j', 'a', 'i', 's', 'w', 'a', 'l', 'j', 'i']"
      ]
     },
     "execution_count": 19,
     "metadata": {},
     "output_type": "execute_result"
    }
   ],
   "source": [
    "list(s)"
   ]
  },
  {
   "cell_type": "code",
   "execution_count": 17,
   "id": "f287cfb9-bcc9-4dce-a703-64733d46eec3",
   "metadata": {},
   "outputs": [
    {
     "data": {
      "text/plain": [
       "['j',\n",
       " 'a',\n",
       " 'i',\n",
       " 's',\n",
       " 'w',\n",
       " 'a',\n",
       " 'l',\n",
       " 'j',\n",
       " 'i',\n",
       " 23,\n",
       " 44,\n",
       " 34.5554,\n",
       " 'mithilesh',\n",
       " False,\n",
       " True,\n",
       " (34+3j)]"
      ]
     },
     "execution_count": 17,
     "metadata": {},
     "output_type": "execute_result"
    }
   ],
   "source": [
    "list(s) + l"
   ]
  },
  {
   "cell_type": "code",
   "execution_count": 18,
   "id": "37dd75b2-7d7f-4b62-a4e7-c4dc7fc1439d",
   "metadata": {},
   "outputs": [
    {
     "data": {
      "text/plain": [
       "[23, 44, 34.5554, 'mithilesh', False, True, (34+3j)]"
      ]
     },
     "execution_count": 18,
     "metadata": {},
     "output_type": "execute_result"
    }
   ],
   "source": [
    "l"
   ]
  },
  {
   "cell_type": "code",
   "execution_count": 21,
   "id": "8ee76651-7e97-4250-bfa5-fa902717d454",
   "metadata": {},
   "outputs": [
    {
     "data": {
      "text/plain": [
       "'mit'"
      ]
     },
     "execution_count": 21,
     "metadata": {},
     "output_type": "execute_result"
    }
   ],
   "source": [
    "l[3][:3]"
   ]
  },
  {
   "cell_type": "code",
   "execution_count": 25,
   "id": "ee350e92-f63b-4b66-9427-8279933fb244",
   "metadata": {},
   "outputs": [
    {
     "data": {
      "text/plain": [
       "'Fal'"
      ]
     },
     "execution_count": 25,
     "metadata": {},
     "output_type": "execute_result"
    }
   ],
   "source": [
    "str(l[4])[:3]"
   ]
  },
  {
   "cell_type": "code",
   "execution_count": 27,
   "id": "186af31c-1f48-4c25-be06-7f6441ebef27",
   "metadata": {},
   "outputs": [],
   "source": [
    "l1=[22,23,3]"
   ]
  },
  {
   "cell_type": "code",
   "execution_count": 28,
   "id": "d4ed857c-5301-4649-9ec2-14e4f050a117",
   "metadata": {},
   "outputs": [
    {
     "data": {
      "text/plain": [
       "[23, 44, 34.5554, 'mithilesh', False, True, (34+3j), 22, 23, 3]"
      ]
     },
     "execution_count": 28,
     "metadata": {},
     "output_type": "execute_result"
    }
   ],
   "source": [
    "l+l1"
   ]
  },
  {
   "cell_type": "code",
   "execution_count": 29,
   "id": "ef2806ad-f5a5-48aa-b3b8-4c046f0de7e1",
   "metadata": {},
   "outputs": [
    {
     "data": {
      "text/plain": [
       "[22, 23, 3, 22, 23, 3, 22, 23, 3]"
      ]
     },
     "execution_count": 29,
     "metadata": {},
     "output_type": "execute_result"
    }
   ],
   "source": [
    "l1*3"
   ]
  },
  {
   "cell_type": "code",
   "execution_count": 30,
   "id": "0818d415-877d-43c9-8e1b-4cb38c701ba9",
   "metadata": {},
   "outputs": [
    {
     "data": {
      "text/plain": [
       "7"
      ]
     },
     "execution_count": 30,
     "metadata": {},
     "output_type": "execute_result"
    }
   ],
   "source": [
    "len(l)"
   ]
  },
  {
   "cell_type": "code",
   "execution_count": 31,
   "id": "7d8324db-cddb-4a05-b334-40f2d41023de",
   "metadata": {},
   "outputs": [
    {
     "data": {
      "text/plain": [
       "[23, 44, 34.5554, 'mithilesh', False, True, (34+3j)]"
      ]
     },
     "execution_count": 31,
     "metadata": {},
     "output_type": "execute_result"
    }
   ],
   "source": [
    "l"
   ]
  },
  {
   "cell_type": "code",
   "execution_count": 32,
   "id": "b9927b0e-818b-4dc1-b5c4-3012adb1333d",
   "metadata": {},
   "outputs": [],
   "source": [
    "l.append(5)"
   ]
  },
  {
   "cell_type": "code",
   "execution_count": 33,
   "id": "9045d5ce-7a97-4ddd-abdd-a4003aba7a65",
   "metadata": {},
   "outputs": [
    {
     "data": {
      "text/plain": [
       "[23, 44, 34.5554, 'mithilesh', False, True, (34+3j), 5]"
      ]
     },
     "execution_count": 33,
     "metadata": {},
     "output_type": "execute_result"
    }
   ],
   "source": [
    "l"
   ]
  },
  {
   "cell_type": "code",
   "execution_count": 34,
   "id": "474a4295-a7e0-4ed1-bf4c-84844259aac1",
   "metadata": {},
   "outputs": [],
   "source": [
    "l.append(s)"
   ]
  },
  {
   "cell_type": "code",
   "execution_count": 35,
   "id": "4ed13d9a-c7e7-474a-bb40-53aeb43a60c3",
   "metadata": {},
   "outputs": [
    {
     "data": {
      "text/plain": [
       "[23, 44, 34.5554, 'mithilesh', False, True, (34+3j), 5, 'jaiswalji']"
      ]
     },
     "execution_count": 35,
     "metadata": {},
     "output_type": "execute_result"
    }
   ],
   "source": [
    "l"
   ]
  },
  {
   "cell_type": "code",
   "execution_count": 38,
   "id": "786ecbb8-836c-4f5f-8d86-d1cf6a0ae712",
   "metadata": {},
   "outputs": [],
   "source": [
    "l.append(l1)"
   ]
  },
  {
   "cell_type": "code",
   "execution_count": 39,
   "id": "6cd9a313-78bd-4305-ba51-dc91c29a44e4",
   "metadata": {},
   "outputs": [
    {
     "data": {
      "text/plain": [
       "[23,\n",
       " 44,\n",
       " 34.5554,\n",
       " 'mithilesh',\n",
       " False,\n",
       " True,\n",
       " (34+3j),\n",
       " 5,\n",
       " 'jaiswalji',\n",
       " [22, 23, 3],\n",
       " [22, 23, 3]]"
      ]
     },
     "execution_count": 39,
     "metadata": {},
     "output_type": "execute_result"
    }
   ],
   "source": [
    "l"
   ]
  },
  {
   "cell_type": "code",
   "execution_count": 40,
   "id": "035bbd73-ace4-47bb-8c71-b6ed01211473",
   "metadata": {},
   "outputs": [
    {
     "data": {
      "text/plain": [
       "[23,\n",
       " 44,\n",
       " 34.5554,\n",
       " 'mithilesh',\n",
       " False,\n",
       " True,\n",
       " (34+3j),\n",
       " 5,\n",
       " 'jaiswalji',\n",
       " [22, 23, 3],\n",
       " [22, 23, 3]]"
      ]
     },
     "execution_count": 40,
     "metadata": {},
     "output_type": "execute_result"
    }
   ],
   "source": [
    "l"
   ]
  },
  {
   "cell_type": "code",
   "execution_count": 41,
   "id": "55daf15e-2bd4-4231-8949-60b575d34583",
   "metadata": {},
   "outputs": [
    {
     "data": {
      "text/plain": [
       "'i'"
      ]
     },
     "execution_count": 41,
     "metadata": {},
     "output_type": "execute_result"
    }
   ],
   "source": [
    "l[-3][2]"
   ]
  },
  {
   "cell_type": "code",
   "execution_count": 43,
   "id": "c1ea292b-bfb5-43e2-bf7d-bb17de554e34",
   "metadata": {},
   "outputs": [],
   "source": [
    "l.extend(\"mithi\")"
   ]
  },
  {
   "cell_type": "code",
   "execution_count": 44,
   "id": "48bff342-02e2-4919-bec7-fcc139a62884",
   "metadata": {},
   "outputs": [
    {
     "data": {
      "text/plain": [
       "[23,\n",
       " 44,\n",
       " 34.5554,\n",
       " 'mithilesh',\n",
       " False,\n",
       " True,\n",
       " (34+3j),\n",
       " 5,\n",
       " 'jaiswalji',\n",
       " [22, 23, 3],\n",
       " [22, 23, 3],\n",
       " 'm',\n",
       " 'i',\n",
       " 't',\n",
       " 'h',\n",
       " 'i']"
      ]
     },
     "execution_count": 44,
     "metadata": {},
     "output_type": "execute_result"
    }
   ],
   "source": [
    "l"
   ]
  },
  {
   "cell_type": "code",
   "execution_count": 45,
   "id": "7778cf55-0037-4157-975b-a8e099219106",
   "metadata": {},
   "outputs": [],
   "source": [
    "l.extend(l1)"
   ]
  },
  {
   "cell_type": "code",
   "execution_count": 46,
   "id": "631dd71b-47a4-4442-847d-8b3b096942fb",
   "metadata": {},
   "outputs": [
    {
     "data": {
      "text/plain": [
       "[23,\n",
       " 44,\n",
       " 34.5554,\n",
       " 'mithilesh',\n",
       " False,\n",
       " True,\n",
       " (34+3j),\n",
       " 5,\n",
       " 'jaiswalji',\n",
       " [22, 23, 3],\n",
       " [22, 23, 3],\n",
       " 'm',\n",
       " 'i',\n",
       " 't',\n",
       " 'h',\n",
       " 'i',\n",
       " 22,\n",
       " 23,\n",
       " 3]"
      ]
     },
     "execution_count": 46,
     "metadata": {},
     "output_type": "execute_result"
    }
   ],
   "source": [
    "l"
   ]
  },
  {
   "cell_type": "code",
   "execution_count": 47,
   "id": "03ac59f1-9c92-4333-a787-6a6eb3a96c83",
   "metadata": {},
   "outputs": [
    {
     "data": {
      "text/plain": [
       "[22, 23, 3]"
      ]
     },
     "execution_count": 47,
     "metadata": {},
     "output_type": "execute_result"
    }
   ],
   "source": [
    "l1"
   ]
  },
  {
   "cell_type": "code",
   "execution_count": 48,
   "id": "f2fcdbf0-ed4d-4fcb-b503-931d35b93bcd",
   "metadata": {},
   "outputs": [],
   "source": [
    "l1.insert(1,'mithi')"
   ]
  },
  {
   "cell_type": "code",
   "execution_count": 49,
   "id": "f0ab7670-cad9-4ed5-bd0b-645d9816276d",
   "metadata": {},
   "outputs": [
    {
     "data": {
      "text/plain": [
       "[22, 'mithi', 23, 3]"
      ]
     },
     "execution_count": 49,
     "metadata": {},
     "output_type": "execute_result"
    }
   ],
   "source": [
    "l1"
   ]
  },
  {
   "cell_type": "code",
   "execution_count": null,
   "id": "64f211b9-0746-48b9-829a-a3f299f01886",
   "metadata": {},
   "outputs": [],
   "source": [
    "l1.insert(0,4)"
   ]
  },
  {
   "cell_type": "code",
   "execution_count": 63,
   "id": "f8b58168-bae3-45b2-90ce-8e64ace2d773",
   "metadata": {},
   "outputs": [],
   "source": [
    "l1.insert(2,l1)"
   ]
  },
  {
   "cell_type": "code",
   "execution_count": 64,
   "id": "a7b5782b-2e7e-4431-86e0-1bf1d9198288",
   "metadata": {},
   "outputs": [
    {
     "data": {
      "text/plain": [
       "[4, 22, [...], [...], [1, 2, 3], [...], 'mithi', 23, 3]"
      ]
     },
     "execution_count": 64,
     "metadata": {},
     "output_type": "execute_result"
    }
   ],
   "source": [
    "l1"
   ]
  },
  {
   "cell_type": "code",
   "execution_count": 66,
   "id": "c9262855-ae39-4905-82b3-86d5f1e00afa",
   "metadata": {},
   "outputs": [],
   "source": [
    "l1=[22,23,3]"
   ]
  },
  {
   "cell_type": "code",
   "execution_count": 67,
   "id": "c9a14145-9540-4078-ad47-3fbf47c73d63",
   "metadata": {},
   "outputs": [
    {
     "data": {
      "text/plain": [
       "[22, 23, 3]"
      ]
     },
     "execution_count": 67,
     "metadata": {},
     "output_type": "execute_result"
    }
   ],
   "source": [
    "l1"
   ]
  },
  {
   "cell_type": "code",
   "execution_count": 70,
   "id": "0a9266f5-558f-4e51-95ae-e076f783eb0a",
   "metadata": {},
   "outputs": [],
   "source": [
    "l1.insert(2,'mithi')"
   ]
  },
  {
   "cell_type": "code",
   "execution_count": 71,
   "id": "db394919-e4da-4da8-812a-9be86f8e37d7",
   "metadata": {},
   "outputs": [
    {
     "data": {
      "text/plain": [
       "[22, 23, 'mithi', 'mithi', 3]"
      ]
     },
     "execution_count": 71,
     "metadata": {},
     "output_type": "execute_result"
    }
   ],
   "source": [
    "l1"
   ]
  },
  {
   "cell_type": "code",
   "execution_count": null,
   "id": "25df90dd-4ffd-4d1c-be42-b4b43dda52b8",
   "metadata": {},
   "outputs": [],
   "source": [
    "l1.insert(4,[1,2,3])"
   ]
  },
  {
   "cell_type": "code",
   "execution_count": 72,
   "id": "aa8698c7-7792-445f-8840-a07cfb86dc52",
   "metadata": {},
   "outputs": [
    {
     "data": {
      "text/plain": [
       "[22, 23, 'mithi', 'mithi', 3]"
      ]
     },
     "execution_count": 72,
     "metadata": {},
     "output_type": "execute_result"
    }
   ],
   "source": [
    "l1"
   ]
  },
  {
   "cell_type": "code",
   "execution_count": 73,
   "id": "506035c5-a2ed-4458-a2e3-73232c530555",
   "metadata": {},
   "outputs": [
    {
     "data": {
      "text/plain": [
       "[22, 23, 'mithi', 'mithi', 3]"
      ]
     },
     "execution_count": 73,
     "metadata": {},
     "output_type": "execute_result"
    }
   ],
   "source": [
    "l1"
   ]
  },
  {
   "cell_type": "code",
   "execution_count": 74,
   "id": "338220a3-e98a-46f4-beac-03bcc4173502",
   "metadata": {},
   "outputs": [],
   "source": [
    "l1.insert(-1,43)"
   ]
  },
  {
   "cell_type": "code",
   "execution_count": 75,
   "id": "e65f8a97-fb4b-42cd-82e2-da0f84e42dce",
   "metadata": {},
   "outputs": [
    {
     "data": {
      "text/plain": [
       "[22, 23, 'mithi', 'mithi', 43, 3]"
      ]
     },
     "execution_count": 75,
     "metadata": {},
     "output_type": "execute_result"
    }
   ],
   "source": [
    "l1"
   ]
  },
  {
   "cell_type": "code",
   "execution_count": 76,
   "id": "6871056d-fccf-43e1-9ea4-e9b6336f8887",
   "metadata": {},
   "outputs": [
    {
     "data": {
      "text/plain": [
       "[22, 23, 'mithi', 'mithi', 43, 3]"
      ]
     },
     "execution_count": 76,
     "metadata": {},
     "output_type": "execute_result"
    }
   ],
   "source": [
    "l1"
   ]
  },
  {
   "cell_type": "code",
   "execution_count": 77,
   "id": "4c44e457-d6ea-4ca8-9633-219f3443f60b",
   "metadata": {},
   "outputs": [
    {
     "data": {
      "text/plain": [
       "[22, 23, 'mithi', 'mithi', 43, 3]"
      ]
     },
     "execution_count": 77,
     "metadata": {},
     "output_type": "execute_result"
    }
   ],
   "source": [
    "l1"
   ]
  },
  {
   "cell_type": "code",
   "execution_count": 78,
   "id": "f4903158-516e-40d4-b78f-3913e45b7b5b",
   "metadata": {},
   "outputs": [
    {
     "data": {
      "text/plain": [
       "3"
      ]
     },
     "execution_count": 78,
     "metadata": {},
     "output_type": "execute_result"
    }
   ],
   "source": [
    "l1.pop()"
   ]
  },
  {
   "cell_type": "code",
   "execution_count": 79,
   "id": "eb83e044-a340-48be-863f-e87f5ea17e92",
   "metadata": {},
   "outputs": [
    {
     "data": {
      "text/plain": [
       "'mithi'"
      ]
     },
     "execution_count": 79,
     "metadata": {},
     "output_type": "execute_result"
    }
   ],
   "source": [
    "l1.pop(2)"
   ]
  },
  {
   "cell_type": "code",
   "execution_count": 87,
   "id": "3285305d-79cc-4076-856c-e94c60809bca",
   "metadata": {},
   "outputs": [
    {
     "data": {
      "text/plain": [
       "[23, 43]"
      ]
     },
     "execution_count": 87,
     "metadata": {},
     "output_type": "execute_result"
    }
   ],
   "source": [
    "l1"
   ]
  },
  {
   "cell_type": "code",
   "execution_count": 88,
   "id": "a3fbbd1f-f5e3-4c34-af76-ec68ddb0b511",
   "metadata": {},
   "outputs": [],
   "source": [
    "l1=[22,23,34,44]"
   ]
  },
  {
   "cell_type": "code",
   "execution_count": 89,
   "id": "fe64b6a6-6ad5-4dda-a82b-0ffb4fde27db",
   "metadata": {},
   "outputs": [
    {
     "data": {
      "text/plain": [
       "[23,\n",
       " 44,\n",
       " 34.5554,\n",
       " 'mithilesh',\n",
       " False,\n",
       " True,\n",
       " (34+3j),\n",
       " 5,\n",
       " 'jaiswalji',\n",
       " [4, 22, [...], [...], [1, 2, 3], [...], 'mithi', 23, 3],\n",
       " [4, 22, [...], [...], [1, 2, 3], [...], 'mithi', 23, 3],\n",
       " 'm',\n",
       " 'i',\n",
       " 't',\n",
       " 'h',\n",
       " 'i',\n",
       " 22,\n",
       " 23,\n",
       " 3]"
      ]
     },
     "execution_count": 89,
     "metadata": {},
     "output_type": "execute_result"
    }
   ],
   "source": [
    "l"
   ]
  },
  {
   "cell_type": "code",
   "execution_count": 90,
   "id": "936ca239-081f-4069-a46c-b649f5ae2698",
   "metadata": {},
   "outputs": [
    {
     "data": {
      "text/plain": [
       "[22, 23, 34, 44]"
      ]
     },
     "execution_count": 90,
     "metadata": {},
     "output_type": "execute_result"
    }
   ],
   "source": [
    "l1"
   ]
  },
  {
   "cell_type": "code",
   "execution_count": 92,
   "id": "f3fc5067-150b-46b5-8dbf-c5e20e7a9b97",
   "metadata": {},
   "outputs": [],
   "source": [
    "l1.remove(22)"
   ]
  },
  {
   "cell_type": "code",
   "execution_count": 93,
   "id": "01488e56-7da9-4bff-a17a-2c84dad421d5",
   "metadata": {},
   "outputs": [
    {
     "data": {
      "text/plain": [
       "[23, 34, 44]"
      ]
     },
     "execution_count": 93,
     "metadata": {},
     "output_type": "execute_result"
    }
   ],
   "source": [
    "l1"
   ]
  },
  {
   "cell_type": "code",
   "execution_count": 94,
   "id": "8ffc135f-85c3-434f-9000-972f0c0dc3aa",
   "metadata": {},
   "outputs": [],
   "source": [
    "l1.insert(2,[1,2,3])"
   ]
  },
  {
   "cell_type": "code",
   "execution_count": 95,
   "id": "22567f10-891c-48be-a057-fb384626087c",
   "metadata": {},
   "outputs": [
    {
     "data": {
      "text/plain": [
       "[23, 34, [1, 2, 3], 44]"
      ]
     },
     "execution_count": 95,
     "metadata": {},
     "output_type": "execute_result"
    }
   ],
   "source": [
    "l1"
   ]
  },
  {
   "cell_type": "code",
   "execution_count": 96,
   "id": "eee9de99-b091-431c-936e-c2e9822b0b40",
   "metadata": {},
   "outputs": [],
   "source": [
    "l1[2].remove(2)"
   ]
  },
  {
   "cell_type": "code",
   "execution_count": 97,
   "id": "770f9908-4784-427b-b500-f12d144016bc",
   "metadata": {},
   "outputs": [
    {
     "data": {
      "text/plain": [
       "[23, 34, [1, 3], 44]"
      ]
     },
     "execution_count": 97,
     "metadata": {},
     "output_type": "execute_result"
    }
   ],
   "source": [
    "l1"
   ]
  },
  {
   "cell_type": "code",
   "execution_count": 98,
   "id": "f16c01ea-2199-4d28-9381-6cef123128c5",
   "metadata": {},
   "outputs": [
    {
     "data": {
      "text/plain": [
       "[23, 34, [1, 3], 44]"
      ]
     },
     "execution_count": 98,
     "metadata": {},
     "output_type": "execute_result"
    }
   ],
   "source": [
    "l1"
   ]
  },
  {
   "cell_type": "code",
   "execution_count": 99,
   "id": "d0078ec9-8a8a-40e2-8466-320c38567cad",
   "metadata": {},
   "outputs": [],
   "source": [
    "l1.append(44)"
   ]
  },
  {
   "cell_type": "code",
   "execution_count": 100,
   "id": "bfd2ae57-5358-458a-87c1-cee095a64d2e",
   "metadata": {},
   "outputs": [
    {
     "data": {
      "text/plain": [
       "[23, 34, [1, 3], 44, 44]"
      ]
     },
     "execution_count": 100,
     "metadata": {},
     "output_type": "execute_result"
    }
   ],
   "source": [
    "l1"
   ]
  },
  {
   "cell_type": "code",
   "execution_count": 101,
   "id": "3cf1ee78-f013-4961-8014-96ac1c0eba6c",
   "metadata": {},
   "outputs": [],
   "source": [
    "l1.remove(44)"
   ]
  },
  {
   "cell_type": "code",
   "execution_count": 102,
   "id": "432f1d87-02b3-4a97-8b7c-0959c3a745c1",
   "metadata": {},
   "outputs": [
    {
     "data": {
      "text/plain": [
       "[23, 34, [1, 3], 44]"
      ]
     },
     "execution_count": 102,
     "metadata": {},
     "output_type": "execute_result"
    }
   ],
   "source": [
    "l1"
   ]
  },
  {
   "cell_type": "code",
   "execution_count": 103,
   "id": "79274b87-6b08-46e6-b133-a9283edbb94c",
   "metadata": {},
   "outputs": [
    {
     "data": {
      "text/plain": [
       "[23, 34, [1, 3], 44]"
      ]
     },
     "execution_count": 103,
     "metadata": {},
     "output_type": "execute_result"
    }
   ],
   "source": [
    "l1"
   ]
  },
  {
   "cell_type": "code",
   "execution_count": 104,
   "id": "37f0b87f-a592-4cc2-bf22-88fc7b47715e",
   "metadata": {},
   "outputs": [
    {
     "data": {
      "text/plain": [
       "[44, [1, 3], 34, 23]"
      ]
     },
     "execution_count": 104,
     "metadata": {},
     "output_type": "execute_result"
    }
   ],
   "source": [
    "l1[::-1]"
   ]
  },
  {
   "cell_type": "code",
   "execution_count": 105,
   "id": "29f13c63-077f-4b45-aa7b-ba0a86a70a2c",
   "metadata": {},
   "outputs": [],
   "source": [
    "l1.reverse()"
   ]
  },
  {
   "cell_type": "code",
   "execution_count": 106,
   "id": "68e39034-5bde-4afd-9546-e6107eb49f61",
   "metadata": {},
   "outputs": [
    {
     "data": {
      "text/plain": [
       "[44, [1, 3], 34, 23]"
      ]
     },
     "execution_count": 106,
     "metadata": {},
     "output_type": "execute_result"
    }
   ],
   "source": [
    "l1"
   ]
  },
  {
   "cell_type": "code",
   "execution_count": 107,
   "id": "5bdc4a9b-c51c-4dca-84f5-342ba0653671",
   "metadata": {},
   "outputs": [
    {
     "ename": "TypeError",
     "evalue": "'<' not supported between instances of 'list' and 'int'",
     "output_type": "error",
     "traceback": [
      "\u001b[0;31m---------------------------------------------------------------------------\u001b[0m",
      "\u001b[0;31mTypeError\u001b[0m                                 Traceback (most recent call last)",
      "Cell \u001b[0;32mIn[107], line 1\u001b[0m\n\u001b[0;32m----> 1\u001b[0m \u001b[43ml1\u001b[49m\u001b[38;5;241;43m.\u001b[39;49m\u001b[43msort\u001b[49m\u001b[43m(\u001b[49m\u001b[43m)\u001b[49m\n",
      "\u001b[0;31mTypeError\u001b[0m: '<' not supported between instances of 'list' and 'int'"
     ]
    }
   ],
   "source": [
    "l1.sort()"
   ]
  },
  {
   "cell_type": "code",
   "execution_count": 108,
   "id": "5d2f7952-0401-4ba3-ab41-09ec3a316c56",
   "metadata": {},
   "outputs": [],
   "source": [
    "l2=[23,2,44,29,4,11,0,42,5,8]"
   ]
  },
  {
   "cell_type": "code",
   "execution_count": 109,
   "id": "13981d9b-d3af-4d93-a3cc-55a826abf6f7",
   "metadata": {},
   "outputs": [
    {
     "data": {
      "text/plain": [
       "[23, 2, 44, 29, 4, 11, 0, 42, 5, 8]"
      ]
     },
     "execution_count": 109,
     "metadata": {},
     "output_type": "execute_result"
    }
   ],
   "source": [
    "l2"
   ]
  },
  {
   "cell_type": "code",
   "execution_count": 110,
   "id": "e32ee0e4-7b8b-4e15-9dea-a173a8e90caf",
   "metadata": {},
   "outputs": [],
   "source": [
    "l2.sort()"
   ]
  },
  {
   "cell_type": "code",
   "execution_count": 111,
   "id": "58f6f2f6-dcf7-4fb8-9deb-bb4f257aa9a5",
   "metadata": {},
   "outputs": [
    {
     "data": {
      "text/plain": [
       "[0, 2, 4, 5, 8, 11, 23, 29, 42, 44]"
      ]
     },
     "execution_count": 111,
     "metadata": {},
     "output_type": "execute_result"
    }
   ],
   "source": [
    "l2"
   ]
  },
  {
   "cell_type": "code",
   "execution_count": 113,
   "id": "c327ca62-448e-400e-8c0a-1f5660e7a95e",
   "metadata": {},
   "outputs": [],
   "source": [
    "l3=['mithi','hello','data science']"
   ]
  },
  {
   "cell_type": "code",
   "execution_count": 114,
   "id": "2615a7d3-07ba-47bc-9b13-a417ae2795b0",
   "metadata": {},
   "outputs": [
    {
     "data": {
      "text/plain": [
       "['mithi', 'hello', 'data science']"
      ]
     },
     "execution_count": 114,
     "metadata": {},
     "output_type": "execute_result"
    }
   ],
   "source": [
    "l3"
   ]
  },
  {
   "cell_type": "code",
   "execution_count": 115,
   "id": "f5ed8f9f-5f6a-49e1-8bd9-951331b55d36",
   "metadata": {},
   "outputs": [],
   "source": [
    "l3.sort()"
   ]
  },
  {
   "cell_type": "code",
   "execution_count": 116,
   "id": "dfdcff7e-bdda-4846-a155-bc0febf1982c",
   "metadata": {},
   "outputs": [
    {
     "data": {
      "text/plain": [
       "['data science', 'hello', 'mithi']"
      ]
     },
     "execution_count": 116,
     "metadata": {},
     "output_type": "execute_result"
    }
   ],
   "source": [
    "l3"
   ]
  },
  {
   "cell_type": "code",
   "execution_count": 117,
   "id": "20084d01-e05b-441f-b1f4-dc0287899981",
   "metadata": {},
   "outputs": [],
   "source": [
    "l3.sort(reverse=True)"
   ]
  },
  {
   "cell_type": "code",
   "execution_count": 118,
   "id": "6b772001-5310-4d4b-9bee-e52ab8b5b68a",
   "metadata": {},
   "outputs": [
    {
     "data": {
      "text/plain": [
       "['mithi', 'hello', 'data science']"
      ]
     },
     "execution_count": 118,
     "metadata": {},
     "output_type": "execute_result"
    }
   ],
   "source": [
    "l3"
   ]
  },
  {
   "cell_type": "code",
   "execution_count": 121,
   "id": "c923a77a-1e32-444e-bc59-d32d8ef0f116",
   "metadata": {},
   "outputs": [
    {
     "data": {
      "text/plain": [
       "1"
      ]
     },
     "execution_count": 121,
     "metadata": {},
     "output_type": "execute_result"
    }
   ],
   "source": [
    "l3.index('hello')"
   ]
  },
  {
   "cell_type": "code",
   "execution_count": 122,
   "id": "d74823c1-89dd-4df5-b653-fc193d73491c",
   "metadata": {},
   "outputs": [
    {
     "data": {
      "text/plain": [
       "1"
      ]
     },
     "execution_count": 122,
     "metadata": {},
     "output_type": "execute_result"
    }
   ],
   "source": [
    "l3.count('hello')"
   ]
  },
  {
   "cell_type": "code",
   "execution_count": 123,
   "id": "e246d3df-bb8a-45c6-a53c-67c29465f807",
   "metadata": {},
   "outputs": [
    {
     "data": {
      "text/plain": [
       "'jaiswalji'"
      ]
     },
     "execution_count": 123,
     "metadata": {},
     "output_type": "execute_result"
    }
   ],
   "source": [
    "s"
   ]
  },
  {
   "cell_type": "code",
   "execution_count": 4,
   "id": "ef2380a6-4811-46f9-8bff-c0a6a07c8d73",
   "metadata": {},
   "outputs": [
    {
     "ename": "NameError",
     "evalue": "name 's' is not defined",
     "output_type": "error",
     "traceback": [
      "\u001b[0;31m---------------------------------------------------------------------------\u001b[0m",
      "\u001b[0;31mNameError\u001b[0m                                 Traceback (most recent call last)",
      "Cell \u001b[0;32mIn[4], line 1\u001b[0m\n\u001b[0;32m----> 1\u001b[0m \u001b[43ms\u001b[49m\n",
      "\u001b[0;31mNameError\u001b[0m: name 's' is not defined"
     ]
    }
   ],
   "source": [
    "s"
   ]
  },
  {
   "cell_type": "code",
   "execution_count": 124,
   "id": "ca2e76f9-e20b-448c-aa30-37aeae4ee4de",
   "metadata": {},
   "outputs": [
    {
     "ename": "TypeError",
     "evalue": "'str' object does not support item assignment",
     "output_type": "error",
     "traceback": [
      "\u001b[0;31m---------------------------------------------------------------------------\u001b[0m",
      "\u001b[0;31mTypeError\u001b[0m                                 Traceback (most recent call last)",
      "Cell \u001b[0;32mIn[124], line 1\u001b[0m\n\u001b[0;32m----> 1\u001b[0m \u001b[43ms\u001b[49m\u001b[43m[\u001b[49m\u001b[38;5;241;43m2\u001b[39;49m\u001b[43m]\u001b[49m\u001b[38;5;241m=\u001b[39m\u001b[38;5;124m'\u001b[39m\u001b[38;5;124mk\u001b[39m\u001b[38;5;124m'\u001b[39m\n",
      "\u001b[0;31mTypeError\u001b[0m: 'str' object does not support item assignment"
     ]
    }
   ],
   "source": [
    "s[2]='k'"
   ]
  },
  {
   "cell_type": "code",
   "execution_count": 125,
   "id": "d85fcee8-a864-421d-980d-96c8b4dfbf90",
   "metadata": {},
   "outputs": [
    {
     "data": {
      "text/plain": [
       "[0, 2, 4, 5, 8, 11, 23, 29, 42, 44]"
      ]
     },
     "execution_count": 125,
     "metadata": {},
     "output_type": "execute_result"
    }
   ],
   "source": [
    "l2"
   ]
  },
  {
   "cell_type": "code",
   "execution_count": null,
   "id": "8e7091f3-1b88-46c5-bb32-902f7261a52e",
   "metadata": {},
   "outputs": [],
   "source": [
    "l2[2]=32"
   ]
  },
  {
   "cell_type": "code",
   "execution_count": 128,
   "id": "487193e6-821c-4afe-8d79-b9cbce17e01d",
   "metadata": {},
   "outputs": [
    {
     "data": {
      "text/plain": [
       "[0, 2, 32, 5, 8, 11, 23, 29, 42, 44]"
      ]
     },
     "execution_count": 128,
     "metadata": {},
     "output_type": "execute_result"
    }
   ],
   "source": [
    "l2"
   ]
  },
  {
   "cell_type": "code",
   "execution_count": 5,
   "id": "35cd22db-78c3-4fdb-9ea7-5e2a807bdb7b",
   "metadata": {},
   "outputs": [
    {
     "ename": "NameError",
     "evalue": "name 's' is not defined",
     "output_type": "error",
     "traceback": [
      "\u001b[0;31m---------------------------------------------------------------------------\u001b[0m",
      "\u001b[0;31mNameError\u001b[0m                                 Traceback (most recent call last)",
      "Cell \u001b[0;32mIn[5], line 1\u001b[0m\n\u001b[0;32m----> 1\u001b[0m \u001b[43ms\u001b[49m\n",
      "\u001b[0;31mNameError\u001b[0m: name 's' is not defined"
     ]
    }
   ],
   "source": [
    "s"
   ]
  },
  {
   "cell_type": "code",
   "execution_count": 6,
   "id": "b28edc3c-b8ea-4bb8-9baa-7fa0fb4d7962",
   "metadata": {},
   "outputs": [],
   "source": [
    "s='jaiswalji'"
   ]
  },
  {
   "cell_type": "code",
   "execution_count": 7,
   "id": "cd4448a6-2b04-4595-a0da-0188b850ff65",
   "metadata": {},
   "outputs": [
    {
     "data": {
      "text/plain": [
       "'i'"
      ]
     },
     "execution_count": 7,
     "metadata": {},
     "output_type": "execute_result"
    }
   ],
   "source": [
    "s[2]"
   ]
  },
  {
   "cell_type": "code",
   "execution_count": 8,
   "id": "6d9c668e-d694-4d56-a94a-faf92fd47fa1",
   "metadata": {},
   "outputs": [
    {
     "ename": "NameError",
     "evalue": "name 'e' is not defined",
     "output_type": "error",
     "traceback": [
      "\u001b[0;31m---------------------------------------------------------------------------\u001b[0m",
      "\u001b[0;31mNameError\u001b[0m                                 Traceback (most recent call last)",
      "Cell \u001b[0;32mIn[8], line 1\u001b[0m\n\u001b[0;32m----> 1\u001b[0m s[\u001b[38;5;241m2\u001b[39m]\u001b[38;5;241m=\u001b[39m\u001b[43me\u001b[49m\n",
      "\u001b[0;31mNameError\u001b[0m: name 'e' is not defined"
     ]
    }
   ],
   "source": [
    "s[2]=e"
   ]
  },
  {
   "cell_type": "code",
   "execution_count": 9,
   "id": "5970720a-4531-43e7-a496-10b110ff4acf",
   "metadata": {},
   "outputs": [
    {
     "ename": "NameError",
     "evalue": "name 'l2' is not defined",
     "output_type": "error",
     "traceback": [
      "\u001b[0;31m---------------------------------------------------------------------------\u001b[0m",
      "\u001b[0;31mNameError\u001b[0m                                 Traceback (most recent call last)",
      "Cell \u001b[0;32mIn[9], line 1\u001b[0m\n\u001b[0;32m----> 1\u001b[0m \u001b[43ml2\u001b[49m\n",
      "\u001b[0;31mNameError\u001b[0m: name 'l2' is not defined"
     ]
    }
   ],
   "source": [
    "l2"
   ]
  },
  {
   "cell_type": "code",
   "execution_count": 10,
   "id": "e846b89f-d8e9-4307-a8fc-f88b250875d9",
   "metadata": {},
   "outputs": [],
   "source": [
    "l2=[0,21,23,30,4,54,6,34,22,35]"
   ]
  },
  {
   "cell_type": "code",
   "execution_count": 11,
   "id": "82c4eb5b-755e-42e4-a095-5a7e9505da83",
   "metadata": {},
   "outputs": [],
   "source": [
    "l2.sort()"
   ]
  },
  {
   "cell_type": "code",
   "execution_count": 12,
   "id": "85c891eb-1563-4965-b713-1ccd64b6f93a",
   "metadata": {},
   "outputs": [
    {
     "data": {
      "text/plain": [
       "[0, 4, 6, 21, 22, 23, 30, 34, 35, 54]"
      ]
     },
     "execution_count": 12,
     "metadata": {},
     "output_type": "execute_result"
    }
   ],
   "source": [
    "l2"
   ]
  },
  {
   "cell_type": "code",
   "execution_count": 13,
   "id": "9dc6b288-ffde-46c5-8162-a19b1ea7d921",
   "metadata": {},
   "outputs": [],
   "source": [
    "l2[2]=20"
   ]
  },
  {
   "cell_type": "code",
   "execution_count": 14,
   "id": "08cb30c2-0d11-496c-9b77-d2e1898b844a",
   "metadata": {},
   "outputs": [
    {
     "data": {
      "text/plain": [
       "[0, 4, 20, 21, 22, 23, 30, 34, 35, 54]"
      ]
     },
     "execution_count": 14,
     "metadata": {},
     "output_type": "execute_result"
    }
   ],
   "source": [
    "l2"
   ]
  },
  {
   "cell_type": "code",
   "execution_count": 15,
   "id": "1276bc7c-d1d9-4f7b-990c-0101df88dff5",
   "metadata": {},
   "outputs": [
    {
     "data": {
      "text/plain": [
       "'jaiswalji'"
      ]
     },
     "execution_count": 15,
     "metadata": {},
     "output_type": "execute_result"
    }
   ],
   "source": [
    "s"
   ]
  },
  {
   "cell_type": "code",
   "execution_count": 16,
   "id": "dc170604-14fd-48ba-8d97-e3bf173e5097",
   "metadata": {},
   "outputs": [
    {
     "data": {
      "text/plain": [
       "'jaisvalji'"
      ]
     },
     "execution_count": 16,
     "metadata": {},
     "output_type": "execute_result"
    }
   ],
   "source": [
    "s.replace('w','v')"
   ]
  },
  {
   "cell_type": "code",
   "execution_count": 18,
   "id": "3cf4e365-2552-452e-8433-acc613e0256d",
   "metadata": {},
   "outputs": [
    {
     "data": {
      "text/plain": [
       "'jaiswalg'"
      ]
     },
     "execution_count": 18,
     "metadata": {},
     "output_type": "execute_result"
    }
   ],
   "source": [
    "s.replace('ji','g')"
   ]
  },
  {
   "cell_type": "code",
   "execution_count": 19,
   "id": "1b3483f8-f5bf-41c5-9813-601fc626d5ff",
   "metadata": {},
   "outputs": [
    {
     "data": {
      "text/plain": [
       "'jaiswalG'"
      ]
     },
     "execution_count": 19,
     "metadata": {},
     "output_type": "execute_result"
    }
   ],
   "source": [
    "s.replace('ji','G')"
   ]
  },
  {
   "cell_type": "code",
   "execution_count": 20,
   "id": "652ec1ef-4b53-492e-8855-125b3ae91562",
   "metadata": {},
   "outputs": [
    {
     "data": {
      "text/plain": [
       "'jaiswalji'"
      ]
     },
     "execution_count": 20,
     "metadata": {},
     "output_type": "execute_result"
    }
   ],
   "source": [
    "s"
   ]
  },
  {
   "cell_type": "code",
   "execution_count": 26,
   "id": "3d705c2c-2d6f-4e7f-abb5-a8fde2da3271",
   "metadata": {},
   "outputs": [],
   "source": [
    "t=(2,3,4,'mithilesh',21.32,True,4+9j)"
   ]
  },
  {
   "cell_type": "code",
   "execution_count": 27,
   "id": "93363ebe-ca3d-4600-86ed-029b8eca01fa",
   "metadata": {},
   "outputs": [
    {
     "data": {
      "text/plain": [
       "(2, 3, 4, 'mithilesh', 21.32, True, (4+9j))"
      ]
     },
     "execution_count": 27,
     "metadata": {},
     "output_type": "execute_result"
    }
   ],
   "source": [
    "t"
   ]
  },
  {
   "cell_type": "code",
   "execution_count": 28,
   "id": "09fda77e-d5a1-460d-80df-6eb376a7c3a6",
   "metadata": {},
   "outputs": [
    {
     "data": {
      "text/plain": [
       "tuple"
      ]
     },
     "execution_count": 28,
     "metadata": {},
     "output_type": "execute_result"
    }
   ],
   "source": [
    "type(t)"
   ]
  },
  {
   "cell_type": "code",
   "execution_count": 29,
   "id": "181c826d-7fe0-4cef-b840-82499d0109b1",
   "metadata": {},
   "outputs": [
    {
     "data": {
      "text/plain": [
       "'mithilesh'"
      ]
     },
     "execution_count": 29,
     "metadata": {},
     "output_type": "execute_result"
    }
   ],
   "source": [
    "t[3]"
   ]
  },
  {
   "cell_type": "code",
   "execution_count": 30,
   "id": "46cc757b-c143-447a-b5f8-3caef810ae56",
   "metadata": {},
   "outputs": [
    {
     "data": {
      "text/plain": [
       "3"
      ]
     },
     "execution_count": 30,
     "metadata": {},
     "output_type": "execute_result"
    }
   ],
   "source": [
    "t[1]"
   ]
  },
  {
   "cell_type": "code",
   "execution_count": 31,
   "id": "7cfcbbf9-3775-4442-93cc-2f54298c1760",
   "metadata": {},
   "outputs": [
    {
     "data": {
      "text/plain": [
       "(4+9j)"
      ]
     },
     "execution_count": 31,
     "metadata": {},
     "output_type": "execute_result"
    }
   ],
   "source": [
    "t[-1]"
   ]
  },
  {
   "cell_type": "code",
   "execution_count": 32,
   "id": "8623a6ee-6631-4c53-9ddd-ec449ba6e274",
   "metadata": {},
   "outputs": [
    {
     "data": {
      "text/plain": [
       "((4+9j), True, 21.32, 'mithilesh', 4, 3, 2)"
      ]
     },
     "execution_count": 32,
     "metadata": {},
     "output_type": "execute_result"
    }
   ],
   "source": [
    "t[::-1]"
   ]
  },
  {
   "cell_type": "code",
   "execution_count": 33,
   "id": "8d9955fd-6d8b-41a8-8d31-bd3b19545e43",
   "metadata": {},
   "outputs": [
    {
     "ename": "TypeError",
     "evalue": "'tuple' object does not support item assignment",
     "output_type": "error",
     "traceback": [
      "\u001b[0;31m---------------------------------------------------------------------------\u001b[0m",
      "\u001b[0;31mTypeError\u001b[0m                                 Traceback (most recent call last)",
      "Cell \u001b[0;32mIn[33], line 1\u001b[0m\n\u001b[0;32m----> 1\u001b[0m \u001b[43mt\u001b[49m\u001b[43m[\u001b[49m\u001b[38;5;241;43m0\u001b[39;49m\u001b[43m]\u001b[49m\u001b[38;5;241m=\u001b[39m\u001b[38;5;124m'\u001b[39m\u001b[38;5;124mmithi\u001b[39m\u001b[38;5;124m'\u001b[39m\n",
      "\u001b[0;31mTypeError\u001b[0m: 'tuple' object does not support item assignment"
     ]
    }
   ],
   "source": [
    "t[0]='mithi'"
   ]
  },
  {
   "cell_type": "code",
   "execution_count": 34,
   "id": "90767377-969d-4544-8007-ec1407110ced",
   "metadata": {},
   "outputs": [
    {
     "data": {
      "text/plain": [
       "(2, 3, 4, 'mithilesh', 21.32, True, (4+9j))"
      ]
     },
     "execution_count": 34,
     "metadata": {},
     "output_type": "execute_result"
    }
   ],
   "source": [
    "t"
   ]
  },
  {
   "cell_type": "code",
   "execution_count": 36,
   "id": "207b7b33-b70b-4b68-84a2-ea5d95e4e502",
   "metadata": {},
   "outputs": [
    {
     "data": {
      "text/plain": [
       "1"
      ]
     },
     "execution_count": 36,
     "metadata": {},
     "output_type": "execute_result"
    }
   ],
   "source": [
    "t.count(4)"
   ]
  },
  {
   "cell_type": "code",
   "execution_count": 37,
   "id": "9d93eed4-2606-4ad6-808f-149bf8ff1ddf",
   "metadata": {},
   "outputs": [
    {
     "data": {
      "text/plain": [
       "0"
      ]
     },
     "execution_count": 37,
     "metadata": {},
     "output_type": "execute_result"
    }
   ],
   "source": [
    "t.count(22)"
   ]
  },
  {
   "cell_type": "code",
   "execution_count": 38,
   "id": "ce8a0a01-3d2b-4265-a83c-ad4dbe3d2915",
   "metadata": {},
   "outputs": [
    {
     "data": {
      "text/plain": [
       "1"
      ]
     },
     "execution_count": 38,
     "metadata": {},
     "output_type": "execute_result"
    }
   ],
   "source": [
    "t.index(3)"
   ]
  },
  {
   "cell_type": "code",
   "execution_count": 39,
   "id": "14c4b21d-e2fa-4df8-936a-45590aa03897",
   "metadata": {},
   "outputs": [
    {
     "data": {
      "text/plain": [
       "5"
      ]
     },
     "execution_count": 39,
     "metadata": {},
     "output_type": "execute_result"
    }
   ],
   "source": [
    "t.index(True)"
   ]
  },
  {
   "cell_type": "code",
   "execution_count": 40,
   "id": "0867eaae-8141-4d26-b5ff-93c471a93154",
   "metadata": {},
   "outputs": [
    {
     "data": {
      "text/plain": [
       "'jaiswalji'"
      ]
     },
     "execution_count": 40,
     "metadata": {},
     "output_type": "execute_result"
    }
   ],
   "source": [
    "s"
   ]
  },
  {
   "cell_type": "code",
   "execution_count": 41,
   "id": "72cd1012-29d3-4ee4-b632-f150fa1eeca5",
   "metadata": {},
   "outputs": [
    {
     "data": {
      "text/plain": [
       "[0, 4, 20, 21, 22, 23, 30, 34, 35, 54]"
      ]
     },
     "execution_count": 41,
     "metadata": {},
     "output_type": "execute_result"
    }
   ],
   "source": [
    "l2"
   ]
  },
  {
   "cell_type": "code",
   "execution_count": 42,
   "id": "d6651c95-1c45-4e85-8603-5a09dd15d819",
   "metadata": {},
   "outputs": [],
   "source": [
    "s2={}"
   ]
  },
  {
   "cell_type": "code",
   "execution_count": 43,
   "id": "a73f0057-8ae4-4dd3-af94-eed3dff9b8b5",
   "metadata": {},
   "outputs": [
    {
     "data": {
      "text/plain": [
       "dict"
      ]
     },
     "execution_count": 43,
     "metadata": {},
     "output_type": "execute_result"
    }
   ],
   "source": [
    "type(s2)"
   ]
  },
  {
   "cell_type": "code",
   "execution_count": 44,
   "id": "a3abdc9e-5b81-439e-bcac-1785019a138b",
   "metadata": {},
   "outputs": [],
   "source": [
    "s2={2,323,442.2,22}"
   ]
  },
  {
   "cell_type": "code",
   "execution_count": 45,
   "id": "609707fe-9963-4a35-acce-cabca6677ddd",
   "metadata": {},
   "outputs": [
    {
     "data": {
      "text/plain": [
       "set"
      ]
     },
     "execution_count": 45,
     "metadata": {},
     "output_type": "execute_result"
    }
   ],
   "source": [
    "type(s2)"
   ]
  },
  {
   "cell_type": "code",
   "execution_count": 46,
   "id": "68fa5385-200a-4058-b37a-a2b564653fea",
   "metadata": {},
   "outputs": [],
   "source": [
    "s3={2, 3, 4, 'mithilesh', 21.32, True, (4+9j)}"
   ]
  },
  {
   "cell_type": "code",
   "execution_count": 47,
   "id": "53fa836c-9cfa-4274-93e3-2977dd88327f",
   "metadata": {},
   "outputs": [
    {
     "data": {
      "text/plain": [
       "{(4+9j), 2, 21.32, 3, 4, True, 'mithilesh'}"
      ]
     },
     "execution_count": 47,
     "metadata": {},
     "output_type": "execute_result"
    }
   ],
   "source": [
    "s3"
   ]
  },
  {
   "cell_type": "code",
   "execution_count": 48,
   "id": "6d3a76cb-debc-41b5-bd9e-61adf69730ab",
   "metadata": {},
   "outputs": [],
   "source": [
    "s4={2,2,2,2,3,3,3,4,4,4,4,5,5,2,4,2,3}"
   ]
  },
  {
   "cell_type": "code",
   "execution_count": 49,
   "id": "8f42aa19-1a31-45ec-bdd1-95ed75a6796c",
   "metadata": {},
   "outputs": [
    {
     "data": {
      "text/plain": [
       "{2, 3, 4, 5}"
      ]
     },
     "execution_count": 49,
     "metadata": {},
     "output_type": "execute_result"
    }
   ],
   "source": [
    "s4"
   ]
  },
  {
   "cell_type": "code",
   "execution_count": 50,
   "id": "63181944-1949-4f61-a68a-89caf9f81e3e",
   "metadata": {},
   "outputs": [],
   "source": [
    "s4={2,2,2,2,3,3,3,4,4,4,4,5,5,2,4,2,3,'mithi','Mithi'}"
   ]
  },
  {
   "cell_type": "code",
   "execution_count": 51,
   "id": "06f7521a-c4cc-4df4-9570-ddc11078fb42",
   "metadata": {},
   "outputs": [
    {
     "data": {
      "text/plain": [
       "{2, 3, 4, 5, 'Mithi', 'mithi'}"
      ]
     },
     "execution_count": 51,
     "metadata": {},
     "output_type": "execute_result"
    }
   ],
   "source": [
    "s4"
   ]
  },
  {
   "cell_type": "code",
   "execution_count": 52,
   "id": "f7b9e87f-1128-4b58-af6b-e2b66827e94d",
   "metadata": {},
   "outputs": [],
   "source": [
    "s4=[2,2,2,2,3,3,3,4,4,4,4,5,5,2,4,2,3,'mithi','Mithi']"
   ]
  },
  {
   "cell_type": "code",
   "execution_count": 53,
   "id": "6cffcaff-4cfb-4a5f-a2c8-53a15e448150",
   "metadata": {},
   "outputs": [],
   "source": [
    "l5=list(set(s4))"
   ]
  },
  {
   "cell_type": "code",
   "execution_count": 54,
   "id": "a8e1327a-3357-455c-8458-0161662c962d",
   "metadata": {},
   "outputs": [
    {
     "data": {
      "text/plain": [
       "[2, 3, 4, 5, 'Mithi', 'mithi']"
      ]
     },
     "execution_count": 54,
     "metadata": {},
     "output_type": "execute_result"
    }
   ],
   "source": [
    "l5"
   ]
  },
  {
   "cell_type": "code",
   "execution_count": 55,
   "id": "84a816f7-ee4a-4b3a-9b02-e1214491e9a5",
   "metadata": {},
   "outputs": [
    {
     "data": {
      "text/plain": [
       "[2, 2, 2, 2, 3, 3, 3, 4, 4, 4, 4, 5, 5, 2, 4, 2, 3, 'mithi', 'Mithi']"
      ]
     },
     "execution_count": 55,
     "metadata": {},
     "output_type": "execute_result"
    }
   ],
   "source": [
    "s4"
   ]
  },
  {
   "cell_type": "code",
   "execution_count": 56,
   "id": "e63a5337-277e-4f72-8f35-6a04e8ef01b4",
   "metadata": {},
   "outputs": [],
   "source": [
    "s4={2,2,2,2,3,3,3,4,4,4,4,5,5,2,4,2,3,'mithi','Mithi'}"
   ]
  },
  {
   "cell_type": "code",
   "execution_count": 57,
   "id": "e3bd5bad-fb02-4476-bbd4-734de82df612",
   "metadata": {},
   "outputs": [
    {
     "data": {
      "text/plain": [
       "{2, 3, 4, 5, 'Mithi', 'mithi'}"
      ]
     },
     "execution_count": 57,
     "metadata": {},
     "output_type": "execute_result"
    }
   ],
   "source": [
    "s4"
   ]
  },
  {
   "cell_type": "code",
   "execution_count": 58,
   "id": "0cdbc6fa-061f-4344-9af8-435f51c0161b",
   "metadata": {},
   "outputs": [
    {
     "ename": "TypeError",
     "evalue": "'set' object is not subscriptable",
     "output_type": "error",
     "traceback": [
      "\u001b[0;31m---------------------------------------------------------------------------\u001b[0m",
      "\u001b[0;31mTypeError\u001b[0m                                 Traceback (most recent call last)",
      "Cell \u001b[0;32mIn[58], line 1\u001b[0m\n\u001b[0;32m----> 1\u001b[0m \u001b[43ms4\u001b[49m\u001b[43m[\u001b[49m\u001b[43m:\u001b[49m\u001b[43m:\u001b[49m\u001b[38;5;241;43m2\u001b[39;49m\u001b[43m]\u001b[49m\n",
      "\u001b[0;31mTypeError\u001b[0m: 'set' object is not subscriptable"
     ]
    }
   ],
   "source": [
    "s4[::2]"
   ]
  },
  {
   "cell_type": "code",
   "execution_count": 59,
   "id": "6e983aa6-38c9-477c-bef6-c5c1029ae476",
   "metadata": {},
   "outputs": [
    {
     "ename": "TypeError",
     "evalue": "'set' object is not subscriptable",
     "output_type": "error",
     "traceback": [
      "\u001b[0;31m---------------------------------------------------------------------------\u001b[0m",
      "\u001b[0;31mTypeError\u001b[0m                                 Traceback (most recent call last)",
      "Cell \u001b[0;32mIn[59], line 1\u001b[0m\n\u001b[0;32m----> 1\u001b[0m \u001b[43ms4\u001b[49m\u001b[43m[\u001b[49m\u001b[38;5;241;43m2\u001b[39;49m\u001b[43m]\u001b[49m\n",
      "\u001b[0;31mTypeError\u001b[0m: 'set' object is not subscriptable"
     ]
    }
   ],
   "source": [
    "s4[2]"
   ]
  },
  {
   "cell_type": "code",
   "execution_count": 62,
   "id": "122399e4-609d-496f-a803-464ac26a013a",
   "metadata": {},
   "outputs": [],
   "source": [
    "s4.add(40)"
   ]
  },
  {
   "cell_type": "code",
   "execution_count": 63,
   "id": "c64587c2-91c9-4a60-ad60-1d9a7d62c8e4",
   "metadata": {},
   "outputs": [
    {
     "data": {
      "text/plain": [
       "{2, 3, 4, 40, 5, 'Mithi', 'mithi'}"
      ]
     },
     "execution_count": 63,
     "metadata": {},
     "output_type": "execute_result"
    }
   ],
   "source": [
    "s4"
   ]
  },
  {
   "cell_type": "code",
   "execution_count": 74,
   "id": "17c3edb8-5f28-411e-a75c-1654b3f4d4a4",
   "metadata": {},
   "outputs": [
    {
     "ename": "KeyError",
     "evalue": "4",
     "output_type": "error",
     "traceback": [
      "\u001b[0;31m---------------------------------------------------------------------------\u001b[0m",
      "\u001b[0;31mKeyError\u001b[0m                                  Traceback (most recent call last)",
      "Cell \u001b[0;32mIn[74], line 1\u001b[0m\n\u001b[0;32m----> 1\u001b[0m \u001b[43ms4\u001b[49m\u001b[38;5;241;43m.\u001b[39;49m\u001b[43mremove\u001b[49m\u001b[43m(\u001b[49m\u001b[38;5;241;43m4\u001b[39;49m\u001b[43m)\u001b[49m\n",
      "\u001b[0;31mKeyError\u001b[0m: 4"
     ]
    }
   ],
   "source": [
    "s4.remove(4)"
   ]
  },
  {
   "cell_type": "code",
   "execution_count": 75,
   "id": "732b54d8-5f2f-4240-8ff7-ef3a0493acc1",
   "metadata": {},
   "outputs": [
    {
     "data": {
      "text/plain": [
       "{2, 3, 40, 5, 'Mithi', 'mithi'}"
      ]
     },
     "execution_count": 75,
     "metadata": {},
     "output_type": "execute_result"
    }
   ],
   "source": [
    "s4"
   ]
  },
  {
   "cell_type": "code",
   "execution_count": 76,
   "id": "8c8ef9c9-0644-443f-8a6e-122821be50ee",
   "metadata": {},
   "outputs": [],
   "source": [
    "s4.remove(3)"
   ]
  },
  {
   "cell_type": "code",
   "execution_count": 77,
   "id": "45872527-d281-41e6-89e6-fda0b9a180d3",
   "metadata": {},
   "outputs": [
    {
     "data": {
      "text/plain": [
       "{2, 40, 5, 'Mithi', 'mithi'}"
      ]
     },
     "execution_count": 77,
     "metadata": {},
     "output_type": "execute_result"
    }
   ],
   "source": [
    "s4"
   ]
  },
  {
   "cell_type": "code",
   "execution_count": null,
   "id": "3a6bd5ee-0cca-49fa-81f7-d1e71851af7d",
   "metadata": {},
   "outputs": [],
   "source": []
  }
 ],
 "metadata": {
  "kernelspec": {
   "display_name": "Python 3 (ipykernel)",
   "language": "python",
   "name": "python3"
  },
  "language_info": {
   "codemirror_mode": {
    "name": "ipython",
    "version": 3
   },
   "file_extension": ".py",
   "mimetype": "text/x-python",
   "name": "python",
   "nbconvert_exporter": "python",
   "pygments_lexer": "ipython3",
   "version": "3.10.8"
  }
 },
 "nbformat": 4,
 "nbformat_minor": 5
}
