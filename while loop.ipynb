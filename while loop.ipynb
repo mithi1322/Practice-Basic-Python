{
 "cells": [
  {
   "cell_type": "code",
   "execution_count": 2,
   "id": "59151500-5694-4a15-8c0d-da9b87d865d4",
   "metadata": {},
   "outputs": [
    {
     "name": "stdout",
     "output_type": "stream",
     "text": [
      "1\n",
      "2\n",
      "3\n",
      "4\n",
      "5\n",
      "6\n",
      "7\n",
      "8\n",
      "9\n",
      "10\n"
     ]
    }
   ],
   "source": [
    "a=1\n",
    "while a<=10:\n",
    "    print(a)\n",
    "    a=a+1"
   ]
  },
  {
   "cell_type": "markdown",
   "id": "c9fcdcee-fdf0-49ce-ba33-c7be8d4a4e47",
   "metadata": {},
   "source": [
    "#sum up the  number till some pont"
   ]
  },
  {
   "cell_type": "code",
   "execution_count": 8,
   "id": "28b6c362-e38c-4d99-b178-fe56d36a2362",
   "metadata": {},
   "outputs": [
    {
     "name": "stdin",
     "output_type": "stream",
     "text": [
      "enter your limit 10\n"
     ]
    },
    {
     "data": {
      "text/plain": [
       "55"
      ]
     },
     "execution_count": 8,
     "metadata": {},
     "output_type": "execute_result"
    }
   ],
   "source": [
    "n=int(input(\"enter your limit\"))\n",
    "starting_pont =0\n",
    "counter=1\n",
    "while counter <=n:\n",
    "        starting_pont=starting_pont+counter\n",
    "        counter=counter+1\n",
    "starting_pont\n"
   ]
  },
  {
   "cell_type": "markdown",
   "id": "ce5f4d08-a1b1-41b1-ac98-72710de9d4d3",
   "metadata": {},
   "source": [
    "#factorial"
   ]
  },
  {
   "cell_type": "code",
   "execution_count": 13,
   "id": "8bb07043-2ae4-413d-8661-eb6ae0261436",
   "metadata": {},
   "outputs": [
    {
     "name": "stdin",
     "output_type": "stream",
     "text": [
      "enter your number 0\n"
     ]
    },
    {
     "data": {
      "text/plain": [
       "1"
      ]
     },
     "execution_count": 13,
     "metadata": {},
     "output_type": "execute_result"
    }
   ],
   "source": [
    "number =int(input(\"enter your number\"))\n",
    "factorial=1\n",
    "if number==0:\n",
    "    factorial\n",
    "while number>0:\n",
    "    factorial=factorial*number\n",
    "    number=number-1\n",
    "factorial\n",
    "    "
   ]
  },
  {
   "cell_type": "markdown",
   "id": "04f8ef17-b038-41ae-8eba-a5b9993223b4",
   "metadata": {},
   "source": [
    "#Finonacci series"
   ]
  },
  {
   "cell_type": "code",
   "execution_count": 17,
   "id": "7c6df837-9592-4a56-a846-6f0ba6af99bc",
   "metadata": {},
   "outputs": [
    {
     "name": "stdin",
     "output_type": "stream",
     "text": [
      "enter number you want 12\n"
     ]
    },
    {
     "name": "stdout",
     "output_type": "stream",
     "text": [
      "0\n",
      "1\n",
      "1\n",
      "2\n",
      "3\n",
      "5\n",
      "8\n",
      "13\n",
      "21\n",
      "34\n",
      "55\n",
      "89\n"
     ]
    }
   ],
   "source": [
    "number=int(input(\"enter number you want\"))\n",
    "a,b=0,1\n",
    "count=0\n",
    "while count<number:\n",
    "    print(a)\n",
    "    c=a+b\n",
    "    a=b\n",
    "    b=c\n",
    "    count+=1"
   ]
  },
  {
   "cell_type": "code",
   "execution_count": 21,
   "id": "c87946e8-130d-4ce3-a0ec-bf3ef9179a4d",
   "metadata": {},
   "outputs": [
    {
     "name": "stdin",
     "output_type": "stream",
     "text": [
      "enter number you want 5\n"
     ]
    },
    {
     "name": "stdout",
     "output_type": "stream",
     "text": [
      "0\n",
      "1\n",
      "1\n",
      "2\n",
      "3\n"
     ]
    }
   ],
   "source": [
    "number=int(input(\"enter number you want\"))\n",
    "a,b=0,1\n",
    "for i in range(number):\n",
    "    print(a)\n",
    "    c=a+b\n",
    "    a=b\n",
    "    b=c"
   ]
  },
  {
   "cell_type": "code",
   "execution_count": 22,
   "id": "222bbc64-d214-409f-a3d4-562db9ecf0fd",
   "metadata": {},
   "outputs": [
    {
     "data": {
      "text/plain": [
       "'hselihtim'"
      ]
     },
     "execution_count": 22,
     "metadata": {},
     "output_type": "execute_result"
    }
   ],
   "source": [
    "s=\"mithilesh\"\n",
    "s[::-1]"
   ]
  },
  {
   "cell_type": "code",
   "execution_count": 25,
   "id": "0457e17b-67c4-4c92-ade9-560d6151a52e",
   "metadata": {},
   "outputs": [
    {
     "name": "stdin",
     "output_type": "stream",
     "text": [
      "enter your string for reversal jaiswal\n"
     ]
    },
    {
     "name": "stdout",
     "output_type": "stream",
     "text": [
      "lawsiaj\n"
     ]
    }
   ],
   "source": [
    "word=input(\"enter your string for reversal\")\n",
    "reverse=\"\"\n",
    "length=len(word)\n",
    "while length>0:\n",
    "           reverse=reverse+word[length-1]\n",
    "           length=length-1\n",
    "print(reverse)"
   ]
  },
  {
   "cell_type": "markdown",
   "id": "244c109f-dea7-4b05-a80f-dec0098bd435",
   "metadata": {},
   "source": [
    "#print table of number"
   ]
  },
  {
   "cell_type": "code",
   "execution_count": 2,
   "id": "1de02a8e-a8c7-4a13-9622-d6a636d08ed7",
   "metadata": {},
   "outputs": [
    {
     "name": "stdin",
     "output_type": "stream",
     "text": [
      "enter your number 10\n"
     ]
    },
    {
     "name": "stdout",
     "output_type": "stream",
     "text": [
      "10 * 1 = 10\n",
      "10 * 2 = 20\n",
      "10 * 3 = 30\n",
      "10 * 4 = 40\n",
      "10 * 5 = 50\n",
      "10 * 6 = 60\n",
      "10 * 7 = 70\n",
      "10 * 8 = 80\n",
      "10 * 9 = 90\n",
      "10 * 10 = 100\n"
     ]
    }
   ],
   "source": [
    "n=int(input(\"enter your number\"))\n",
    "i=1\n",
    "while i<=10:\n",
    "    result=n *i\n",
    "    print(n,\"*\",i,\"=\",result)\n",
    "    i=i+1"
   ]
  },
  {
   "cell_type": "code",
   "execution_count": 3,
   "id": "d73329e9-4abe-4ccf-86f8-2fc941713d64",
   "metadata": {},
   "outputs": [
    {
     "name": "stdout",
     "output_type": "stream",
     "text": [
      "1\n",
      "2\n",
      "3\n",
      "4\n",
      "5\n",
      "6\n",
      "7\n",
      "8\n",
      "9\n",
      "this will be excuted complete\n"
     ]
    }
   ],
   "source": [
    "n=10\n",
    "i=1\n",
    "while i <n:\n",
    "    print(i)\n",
    "    i+=1\n",
    "else:\n",
    "    print(\"this will be excuted complete\")\n"
   ]
  },
  {
   "cell_type": "code",
   "execution_count": 5,
   "id": "055a1bd2-2d03-4587-a674-7e2b8a002bd0",
   "metadata": {},
   "outputs": [
    {
     "name": "stdout",
     "output_type": "stream",
     "text": [
      "1\n",
      "2\n",
      "3\n"
     ]
    }
   ],
   "source": [
    "n=10\n",
    "i=1\n",
    "while i <n:\n",
    "    print(i)\n",
    "    if i==3:\n",
    "        break\n",
    "    i+=1\n",
    "else:\n",
    "    print(\"this will be excuted complete\")\n"
   ]
  },
  {
   "cell_type": "code",
   "execution_count": null,
   "id": "a7f05ec7-ba4a-4f9d-b2bb-951c51a2184a",
   "metadata": {},
   "outputs": [],
   "source": []
  }
 ],
 "metadata": {
  "kernelspec": {
   "display_name": "Python 3 (ipykernel)",
   "language": "python",
   "name": "python3"
  },
  "language_info": {
   "codemirror_mode": {
    "name": "ipython",
    "version": 3
   },
   "file_extension": ".py",
   "mimetype": "text/x-python",
   "name": "python",
   "nbconvert_exporter": "python",
   "pygments_lexer": "ipython3",
   "version": "3.10.8"
  }
 },
 "nbformat": 4,
 "nbformat_minor": 5
}
